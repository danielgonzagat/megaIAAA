{
  "cells": [
    {
      "cell_type": "markdown",
      "metadata": {
        "id": "view-in-github",
        "colab_type": "text"
      },
      "source": [
        "<a href=\"https://colab.research.google.com/github/bitkira/Colab/blob/main/tutorial_notebooks_zh/textgrad_optimizer.ipynb\" target=\"_parent\"><img src=\"https://colab.research.google.com/assets/colab-badge.svg\" alt=\"Open In Colab\"/></a>"
      ]
    },
    {
      "cell_type": "code",
      "source": [
        "!pip install git+https://github.com/EvoAgentX/EvoAgentX.git"
      ],
      "metadata": {
        "id": "aA3wLrBkYNKi"
      },
      "id": "aA3wLrBkYNKi",
      "execution_count": null,
      "outputs": []
    },
    {
      "cell_type": "code",
      "source": [
        "!pip install PyPDF2 selenium html2text fastmcp"
      ],
      "metadata": {
        "id": "SRwitya8YOTS"
      },
      "id": "SRwitya8YOTS",
      "execution_count": null,
      "outputs": []
    },
    {
      "cell_type": "markdown",
      "id": "158b616a",
      "metadata": {
        "id": "158b616a"
      },
      "source": [
        "# TextGrad 优化器教程\n",
        "\n",
        "本教程将指导您设置和运行 EvoAgentX 中的 TextGrad 优化器的过程。我们将使用 [MATH](https://www.modelscope.cn/datasets/opencompass/competition_math) 数据集作为示例，演示如何优化工作流中的提示词和系统提示词。\n",
        "\n",
        "## 1. TextGrad\n",
        "TextGrad 使用来自 LLM 的文本反馈来改进文本变量。在 EvoAgentX 中，我们使用 TextGrad 来优化代理的提示词和系统提示词。有关 TextGrad 的更多信息，请参阅他们的[论文](https://arxiv.org/abs/2406.07496)和 [GitHub](https://github.com/zou-group/textgrad)。\n",
        "\n",
        "## 2. TextGrad 优化器\n",
        "EvoAgentX 中的 TextGrad 优化器使您能够：\n",
        "\n",
        "- 自动优化多代理工作流（提示词和/或系统提示词）\n",
        "- 在数据集上评估优化结果\n",
        "\n",
        "## 3. 设置环境\n",
        "\n",
        "首先，让我们导入设置 TextGrad 优化器所需的模块：\n"
      ]
    },
    {
      "cell_type": "code",
      "execution_count": null,
      "id": "3aeefba4",
      "metadata": {
        "id": "3aeefba4"
      },
      "outputs": [],
      "source": [
        "from evoagentx.benchmark import MATH\n",
        "from evoagentx.optimizers import TextGradOptimizer\n",
        "from evoagentx.models import OpenAILLMConfig, OpenAILLM\n",
        "from evoagentx.workflow import SequentialWorkFlowGraph\n",
        "from evoagentx.core.callbacks import suppress_logger_info"
      ]
    },
    {
      "cell_type": "markdown",
      "id": "4ac6e933",
      "metadata": {
        "id": "4ac6e933"
      },
      "source": [
        "\n",
        "### 配置 LLM 模型\n",
        "您需要有效的 API 密钥来初始化 LLM。有关如何设置 API 密钥的更多详细信息，请参阅[快速入门](../quickstart.md)。\n",
        "\n",
        "`TextGradOptimizer` 允许在工作流执行和优化中使用不同的 LLM。例如，我们可以使用 GPT 4o-mini 进行工作流执行，使用 GPT 4o 进行优化。\n"
      ]
    },
    {
      "cell_type": "code",
      "execution_count": null,
      "id": "776658c1",
      "metadata": {
        "id": "776658c1"
      },
      "outputs": [],
      "source": [
        "import os\n",
        "from dotenv import load_dotenv\n",
        "from evoagentx.models import OpenAILLMConfig, OpenAILLM\n",
        "\n",
        "try:\n",
        "    from google.colab import userdata\n",
        "    OPENAI_API_KEY = userdata.get(\"OPENAI_API_KEY\")\n",
        "except ImportError:\n",
        "    OPENAI_API_KEY = None\n",
        "\n",
        "if not OPENAI_API_KEY:\n",
        "    load_dotenv()  # Loads environment variables from .env file\n",
        "    OPENAI_API_KEY = os.getenv(\"OPENAI_API_KEY\")\n",
        "\n",
        "executor_config = OpenAILLMConfig(model=\"gpt-4o-mini\", openai_key=OPENAI_API_KEY)\n",
        "executor_llm = OpenAILLM(config=executor_config)\n",
        "\n",
        "optimizer_config = OpenAILLMConfig(model=\"gpt-4o\", openai_key=OPENAI_API_KEY)\n",
        "optimizer_llm = OpenAILLM(config=optimizer_config)"
      ]
    },
    {
      "cell_type": "markdown",
      "id": "b2581e08",
      "metadata": {
        "id": "b2581e08"
      },
      "source": [
        "\n",
        "## 3. 设置组件\n",
        "\n",
        "### 步骤 1：初始化工作流\n",
        "目前，`TextGradOptimizer` 仅支持 `SequentialWorkFlowGraph`。有关 `SequentialWorkFlowGraph` 的更多信息，请参阅[工作流图](../modules/workflow_graph.md)。对于此示例，让我们创建只有单个节点的最简单工作流。\n"
      ]
    },
    {
      "cell_type": "code",
      "execution_count": null,
      "id": "ef0e0228",
      "metadata": {
        "id": "ef0e0228"
      },
      "outputs": [],
      "source": [
        "math_graph_data = {\n",
        "    \"goal\": r\"Answer the math question. The answer should be in box format, e.g., \\boxed{123}\",\n",
        "    \"tasks\": [\n",
        "        {\n",
        "            \"name\": \"answer_generate\",\n",
        "            \"description\": \"Answer generation for Math.\",\n",
        "            \"inputs\": [\n",
        "                {\"name\": \"problem\", \"type\": \"str\", \"required\": True, \"description\": \"The problem to solve.\"}\n",
        "            ],\n",
        "            \"outputs\": [\n",
        "                {\"name\": \"answer\", \"type\": \"str\", \"required\": True, \"description\": \"The generated answer.\"}\n",
        "            ],\n",
        "            \"prompt\": \"Answer the math question. The answer should be in box format, e.g., \\\\boxed{{123}}\\n\\nProblem: {problem}\",\n",
        "            \"parse_mode\": \"str\"\n",
        "        }\n",
        "    ]\n",
        "}\n",
        "\n",
        "workflow_graph = SequentialWorkFlowGraph.from_dict(math_graph_data)"
      ]
    },
    {
      "cell_type": "markdown",
      "id": "476068ef",
      "metadata": {
        "id": "476068ef"
      },
      "source": [
        "\n",
        "### 步骤 2：准备数据集\n",
        "\n",
        "对于本教程，我们将使用 MATH 数据集，该数据集包含各种难度级别和主题领域的具有挑战性的竞赛数学问题。该数据集分为 7.5K 训练问题和 5K 测试问题。出于演示目的，让我们取数据集的一个较小子集，以加快验证和评估过程。\n"
      ]
    },
    {
      "cell_type": "code",
      "execution_count": null,
      "id": "e5b94bfc",
      "metadata": {
        "id": "e5b94bfc"
      },
      "outputs": [],
      "source": [
        "class MathSplits(MATH):\n",
        "    def _load_data(self):\n",
        "        super()._load_data()\n",
        "        import numpy as np\n",
        "        np.random.seed(42)\n",
        "        permutation = np.random.permutation(len(self._test_data))\n",
        "        full_test_data = self._test_data\n",
        "        # 随机选择10个样本用于训练，40个用于开发，100个用于测试\n",
        "        self._train_data = [full_test_data[idx] for idx in permutation[:10]]\n",
        "        self._dev_data = [full_test_data[idx] for idx in permutation[10:50]]\n",
        "        self._test_data = [full_test_data[idx] for idx in permutation[50:150]]\n",
        "\n",
        "math_splits = MathSplits()"
      ]
    },
    {
      "cell_type": "markdown",
      "id": "b7fbe1fd",
      "metadata": {
        "id": "b7fbe1fd"
      },
      "source": [
        "\n",
        "在优化过程中，`TextGradOptimizer` 默认会在开发集上评估性能。请确保数据集有一个正确设置的开发集（即 `benchmark._dev_data` 不为 None）。您可以：\n",
        "   - 使用已经提供开发集的数据集\n",
        "   - 拆分您的数据集以创建一个开发集（如上例所示）\n",
        "   - 实现一个自定义数据集（继承自 `evoagentx.benchmark.Benchmark`），正确设置开发集\n",
        "\n",
        "### 步骤 3：设置评估器\n",
        "\n",
        "评估器负责在优化过程中评估工作流的性能。有关如何设置和使用评估器的更详细信息，请参考[基准测试和评估教程](./benchmark_and_evaluation.md)。\n"
      ]
    },
    {
      "cell_type": "code",
      "execution_count": null,
      "id": "3b4e7a7c",
      "metadata": {
        "id": "3b4e7a7c"
      },
      "outputs": [],
      "source": [
        "from evoagentx.evaluators import Evaluator\n",
        "from evoagentx.agents import AgentManager\n",
        "def collate_func(example: dict) -> dict:\n",
        "    return {\"problem\": example[\"problem\"]}\n",
        "\n",
        "agent_manager = AgentManager()\n",
        "llm_config = OpenAILLMConfig(model=\"gpt-4o-mini\", openai_key=OPENAI_API_KEY, stream=True, output_response=True)\n",
        "llm = OpenAILLM(llm_config)\n",
        "evaluator = Evaluator(\n",
        "    llm=llm,\n",
        "    agent_manager=agent_manager,\n",
        "    collate_func=collate_func,\n",
        "    num_workers=5,\n",
        "    verbose=True\n",
        ")"
      ]
    },
    {
      "cell_type": "markdown",
      "id": "b23be2af",
      "metadata": {
        "id": "b23be2af"
      },
      "source": [
        "\n",
        "## 4. 配置和运行 TextGrad 优化器\n",
        "\n",
        "TextGradOptimizer 可以通过各种参数配置来控制优化过程：\n",
        "\n",
        "- `graph`：要优化的工作流图\n",
        "- `optimize_mode`：优化模式：\n",
        "    * \"all\"：优化提示词和系统提示词\n",
        "    * \"prompt\"：仅优化提示词\n",
        "    * \"system_prompt\"：仅优化系统提示词\n",
        "- `executor_llm`：用于执行工作流的 LLM\n",
        "- `optimizer_llm`：用于优化工作流的 LLM\n",
        "- `batch_size`：优化的批量大小\n",
        "- `max_steps`：最大优化步数\n",
        "- `evaluator`：在优化期间执行评估的评估器\n",
        "- `eval_interval`：评估之间的步数\n",
        "- `eval_rounds`：评估轮数\n",
        "- `eval_config`：优化期间的评估配置（传递给 `TextGradOptimizer.evaluate()`）。例如，如果我们不想在整个开发集上进行评估，可以设置 `eval_config = {\"sample_k\": 100}` 以仅在开发集中的 100 个随机样本上进行评估。\n",
        "- `save_interval`：保存工作流图之间的步数\n",
        "- `save_path`：保存工作流图的路径\n",
        "- `rollback`：是否在优化过程中回滚到最佳工作流图\n"
      ]
    },
    {
      "cell_type": "code",
      "execution_count": null,
      "id": "5b78f61e",
      "metadata": {
        "id": "5b78f61e"
      },
      "outputs": [],
      "source": [
        "textgrad_optimizer = TextGradOptimizer(\n",
        "    graph=workflow_graph,\n",
        "    optimize_mode=\"all\",\n",
        "    executor_llm=executor_llm,\n",
        "    optimizer_llm=optimizer_llm,\n",
        "    batch_size=3,\n",
        "    max_steps=20,\n",
        "    evaluator=evaluator,\n",
        "    eval_interval=1,\n",
        "    eval_rounds=1,\n",
        "    save_interval=None,\n",
        "    save_path=\"./\",\n",
        "    rollback=True\n",
        ")"
      ]
    },
    {
      "cell_type": "markdown",
      "id": "eab96187",
      "metadata": {
        "id": "eab96187"
      },
      "source": [
        "\n",
        "### 运行优化\n",
        "\n",
        "要开始优化过程："
      ]
    },
    {
      "cell_type": "code",
      "execution_count": null,
      "id": "730aaf2d",
      "metadata": {
        "id": "730aaf2d"
      },
      "outputs": [],
      "source": [
        "textgrad_optimizer.optimize(dataset=math_splits, seed=8)"
      ]
    },
    {
      "cell_type": "markdown",
      "id": "d0cd44d2",
      "metadata": {
        "id": "d0cd44d2"
      },
      "source": [
        "`seed` 用于随机打乱训练数据。训练数据每个轮次会自动重新打乱。如果提供了 `seed`，则用于打乱训练数据的有效种子为 `seed + epoch`。\n",
        "\n",
        "优化结束时的最终图不一定是最好的图。如果您希望恢复在开发集上表现最好的图，只需调用"
      ]
    },
    {
      "cell_type": "code",
      "execution_count": null,
      "id": "96f2c04b",
      "metadata": {
        "id": "96f2c04b"
      },
      "outputs": [],
      "source": [
        "textgrad_optimizer.restore_best_graph()"
      ]
    },
    {
      "cell_type": "markdown",
      "id": "1f73e0cf",
      "metadata": {
        "id": "1f73e0cf"
      },
      "source": [
        "\n",
        "我们可以再次评估工作流，看看优化后的改进情况。"
      ]
    },
    {
      "cell_type": "code",
      "execution_count": null,
      "id": "44bbbcad",
      "metadata": {
        "id": "44bbbcad"
      },
      "outputs": [],
      "source": [
        "with suppress_logger_info():\n",
        "    result = textgrad_optimizer.evaluate(dataset=math_splits, eval_mode=\"test\")\n",
        "print(f\"Evaluation result (after optimization):\\n{result}\")"
      ]
    },
    {
      "cell_type": "markdown",
      "id": "3cb2df68",
      "metadata": {
        "id": "3cb2df68"
      },
      "source": [
        "\n",
        "`TextGradOptimizer` 始终将最终工作流图和最佳工作流图保存到 `save_path`。如果 `save_interval` 不为 `None`，它也会在优化过程中保存图。您也可以通过调用 `textgrad_optimizer.save()` 手动保存工作流图。\n",
        "\n",
        "请注意，`TextGradOptimizer` 不会更改工作流结构，但保存工作流图也会保存在优化后会有所不同的提示词和系统提示词。\n",
        "以下是使用 `TextGradOptimizer` 优化后保存的工作流图示例。\n"
      ]
    },
    {
      "cell_type": "code",
      "execution_count": null,
      "id": "0a671bc2",
      "metadata": {
        "id": "0a671bc2"
      },
      "outputs": [],
      "source": [
        "{\n",
        "    \"class_name\": \"SequentialWorkFlowGraph\",\n",
        "    \"goal\": \"Answer the math question. The answer should be in box format, e.g., \\\\boxed{123}\",\n",
        "    \"tasks\": [\n",
        "        {\n",
        "            \"name\": \"answer_generate\",\n",
        "            \"description\": \"Answer generation for Math.\",\n",
        "            \"inputs\": [\n",
        "                {\n",
        "                    \"name\": \"problem\",\n",
        "                    \"type\": \"str\",\n",
        "                    \"description\": \"The problem to solve.\",\n",
        "                    \"required\": true\n",
        "                }\n",
        "            ],\n",
        "            \"outputs\": [\n",
        "                {\n",
        "                    \"name\": \"answer\",\n",
        "                    \"type\": \"str\",\n",
        "                    \"description\": \"The generated answer.\",\n",
        "                    \"required\": true\n",
        "                }\n",
        "            ],\n",
        "            \"prompt\": \"To solve the math problem, follow these steps:\\n\\n1. **Contextual Overview**: Begin with a brief overview of the problem-solving strategy, using logical reasoning and mathematical principles to derive the solution. Include any relevant geometric or algebraic insights.\\n\\n2. **Key Steps Identification**: Break down the problem-solving process into distinct parts:\\n   - Identify the relevant mathematical operations and properties, such as symmetry, roots of unity, or trigonometric identities.\\n   - Perform the necessary calculations, ensuring each step logically follows from the previous one.\\n   - Present the final answer.\\n\\n3. **Conciseness and Clarity**: Provide a clear and concise explanation of your solution, avoiding unnecessary repetition. Use consistent formatting and notation throughout.\\n\\n4. **Mathematical Justification**: Explain the reasoning behind each step to ensure the solution is well-justified. Include explanations of reference angles, geometric interpretations, and any special conditions or edge cases.\\n\\n5. **Verification Step**: Include a quick verification step to confirm the accuracy of your calculations. Consider recalculating key values if initial assumptions were incorrect.\\n\\n6. **Visual Aids**: Where applicable, include diagrams or sketches to visually represent the problem and solution, enhancing understanding.\\n\\n7. **Final Answer Presentation**: Present the final answer clearly and ensure it is boxed, reflecting the correct solution. Verify that it aligns with the problem's requirements and any known correct solutions.\\n\\nProblem: <input>{problem}</input>\",\n",
        "            \"system_prompt\": \"You are a math-focused assistant dedicated to providing clear, concise, and educational solutions to mathematical problems. Your goal is to deliver structured and pedagogically sound explanations, ensuring mathematical accuracy and logical reasoning. Begin with a brief overview of the problem-solving approach, followed by detailed calculations, and conclude with a verification step. Use precise mathematical notation and consider potential edge cases. Present the final answer clearly, using the specified format, and incorporate visual aids or analogies where appropriate to enhance understanding and engagement. \\n\\nExplicitly include geometric explanations when applicable, describing the geometric context and relationships. Emphasize the importance of visual aids, such as diagrams or sketches, to enhance understanding. Ensure consistency in formatting and mathematical notation. Provide a brief explanation of the reference angle concept and its significance. Include contextual explanations of trigonometric identities and their applications. Critically evaluate initial assumptions and verify geometric properties before proceeding. Highlight the use of symmetry and conjugate pairs in complex numbers. Encourage re-evaluation and verification of steps, ensuring logical flow and clarity. Focus on deriving the correct answer and consider problem-specific strategies or known techniques.\",\n",
        "            \"parse_mode\": \"str\",\n",
        "            \"parse_func\": null,\n",
        "            \"parse_title\": null\n",
        "        }\n",
        "    ]\n",
        "}"
      ]
    },
    {
      "cell_type": "markdown",
      "id": "d247fed4",
      "metadata": {
        "id": "d247fed4"
      },
      "source": [
        "\n",
        "完整的工作示例，请参阅 [examples/textgrad/math_textgrad.py](https://github.com/EvoAgentX/EvoAgentX/blob/main/examples/optimization/textgrad/math_textgrad.py)。其他数据集的 TextGrad 优化脚本（例如，[`hotpotqa_textgrad.py`](https://github.com/EvoAgentX/EvoAgentX/blob/main/examples/optimization/textgrad/hotpotqa_textgrad.py) 和 [`mbqq_textgrad.py`](https://github.com/EvoAgentX/EvoAgentX/blob/main/examples/optimization/textgrad/mbpp_textgrad.py)）可以在 [examples/optimization/textgrad](https://github.com/EvoAgentX/EvoAgentX/tree/main/examples/optimization/textgrad) 目录中找到。"
      ]
    }
  ],
  "metadata": {
    "colab": {
      "provenance": [],
      "include_colab_link": true
    },
    "language_info": {
      "name": "python"
    },
    "kernelspec": {
      "name": "python3",
      "display_name": "Python 3"
    }
  },
  "nbformat": 4,
  "nbformat_minor": 5
}