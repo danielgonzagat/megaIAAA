{
  "cells": [
    {
      "cell_type": "markdown",
      "metadata": {
        "id": "view-in-github",
        "colab_type": "text"
      },
      "source": [
        "<a href=\"https://colab.research.google.com/github/bitkira/Colab/blob/main/tutorial_notebooks/tools.ipynb\" target=\"_parent\"><img src=\"https://colab.research.google.com/assets/colab-badge.svg\" alt=\"Open In Colab\"/></a>"
      ]
    },
    {
      "cell_type": "code",
      "source": [
        "!pip install git+https://github.com/EvoAgentX/EvoAgentX.git"
      ],
      "metadata": {
        "id": "XL96t7QlfTAB"
      },
      "id": "XL96t7QlfTAB",
      "execution_count": null,
      "outputs": []
    },
    {
      "cell_type": "code",
      "source": [
        "!pip install PyPDF2 selenium html2text fastmcp"
      ],
      "metadata": {
        "id": "SYJrRwy1fUGg"
      },
      "id": "SYJrRwy1fUGg",
      "execution_count": null,
      "outputs": []
    },
    {
      "cell_type": "markdown",
      "id": "11a13cb7",
      "metadata": {
        "id": "11a13cb7"
      },
      "source": [
        "# Working with Tools in EvoAgentX\n",
        "\n",
        "This tutorial walks you through using EvoAgentX's powerful tool ecosystem. Tools allow agents to interact with the external world, perform computations, and access information. We'll cover:\n",
        "\n",
        "1. **Understanding the Tool Architecture**: Learn about the base Tool class and Toolkit system\n",
        "2. **Code Interpreters**: Execute Python code safely using Python and Docker interpreters\n",
        "3. **Search Tools**: Access information from the web using Wikipedia and Google search tools\n",
        "4. **File Operations**: Handle file reading and writing with special support for different file formats\n",
        "5. **Browser Automation**: Control web browsers using both traditional Selenium-based automation and AI-driven natural language automation\n",
        "6. **MCP Tools**: Connect to external services using the Model Context Protocol\n",
        "\n",
        "By the end of this tutorial, you'll understand how to leverage these tools in your own agents and workflows.\n",
        "\n",
        "---\n",
        "\n",
        "## 1. Understanding the Tool Architecture\n",
        "\n",
        "At the core of EvoAgentX's tool ecosystem are the `Tool` base class and the `Toolkit` system, which provide a standardized interface for all tools.\n"
      ]
    },
    {
      "cell_type": "code",
      "execution_count": null,
      "id": "2ef6255d",
      "metadata": {
        "id": "2ef6255d"
      },
      "outputs": [],
      "source": [
        "from evoagentx.tools import FileToolkit, PythonInterpreterToolkit, BrowserToolkit, BrowserUseToolkit"
      ]
    },
    {
      "cell_type": "markdown",
      "id": "95e0d759",
      "metadata": {
        "id": "95e0d759"
      },
      "source": [
        "\n",
        "The `Tool` class implements a standardized interface with:\n",
        "\n",
        "- `name`: The tool's unique identifier\n",
        "- `description`: What the tool does\n",
        "- `inputs`: Schema defining the tool's parameters\n",
        "- `required`: List of required parameters\n",
        "- `__call__()`: The method that executes the tool's functionality\n",
        "\n",
        "The `Toolkit` system groups related tools together, providing:\n",
        "\n",
        "- `get_tool(tool_name)`: Returns a specific tool by name\n",
        "- `get_tools()`: Returns all available tools in the toolkit\n",
        "- `get_tool_schemas()`: Returns OpenAI-compatible schemas for all tools\n",
        "\n",
        "### Key Concepts\n",
        "\n",
        "- **Toolkit Integration**: Tools are organized into toolkits for related functionality\n",
        "- **Tool Access**: Individual tools are accessed via `toolkit.get_tool(tool_name)`\n",
        "- **Schemas**: Each tool provides schemas that describe its functionality, parameters, and outputs\n",
        "- **Modularity**: Toolkits can be easily added to any agent that supports function calling\n",
        "\n",
        "---\n",
        "\n",
        "## 2. Code Interpreters\n",
        "\n",
        "EvoAgentX provides two main code interpreter toolkits:\n",
        "\n",
        "1. **PythonInterpreterToolkit**: Executes Python code in a controlled environment\n",
        "2. **DockerInterpreterToolkit**: Executes code within isolated Docker containers\n",
        "\n",
        "### 2.1 PythonInterpreterToolkit\n",
        "\n",
        "**The PythonInterpreterToolkit provides a secure environment for executing Python code with fine-grained control over imports, directory access, and execution context. It uses a sandboxing approach to restrict potentially harmful operations.**\n",
        "\n",
        "#### 2.1.1 Setup\n"
      ]
    },
    {
      "cell_type": "code",
      "execution_count": null,
      "id": "2156c40d",
      "metadata": {
        "id": "2156c40d"
      },
      "outputs": [],
      "source": [
        "from evoagentx.tools import PythonInterpreterToolkit\n",
        "\n",
        "# Initialize with specific allowed imports and directory access\n",
        "toolkit = PythonInterpreterToolkit(\n",
        "    project_path=\".\",  # Default is current directory\n",
        "    directory_names=[\"examples\", \"evoagentx\"],\n",
        "    allowed_imports={\"os\", \"sys\", \"math\", \"random\", \"datetime\"}\n",
        ")"
      ]
    },
    {
      "cell_type": "markdown",
      "id": "8d3578ec",
      "metadata": {
        "id": "8d3578ec"
      },
      "source": [
        "\n",
        "#### 2.1.2 Available Methods\n",
        "\n",
        "The `PythonInterpreterToolkit` provides the following tools:\n",
        "\n",
        "##### Tool 1: python_execute\n",
        "\n",
        "**Description**: Executes Python code directly in a secure environment.\n",
        "\n",
        "**Usage Example**:"
      ]
    },
    {
      "cell_type": "code",
      "execution_count": null,
      "id": "e50c07a4",
      "metadata": {
        "id": "e50c07a4"
      },
      "outputs": [],
      "source": [
        "# Get the execute tool\n",
        "execute_tool = toolkit.get_tool(\"python_execute\")\n",
        "\n",
        "# Execute a simple code snippet\n",
        "result = execute_tool(code=\"\"\"\n",
        "print(\"Hello, World!\")\n",
        "import math\n",
        "print(f\"The value of pi is: {math.pi:.4f}\")\n",
        "\"\"\", language=\"python\")\n",
        "\n",
        "print(result)"
      ]
    },
    {
      "cell_type": "markdown",
      "id": "3fa0df1b",
      "metadata": {
        "id": "3fa0df1b"
      },
      "source": [
        "\n",
        "**Return Type**: `str`\n",
        "\n",
        "**Sample Return**:"
      ]
    },
    {
      "cell_type": "code",
      "execution_count": null,
      "id": "384bb4ea",
      "metadata": {
        "id": "384bb4ea"
      },
      "outputs": [],
      "source": [
        "Hello, World!\n",
        "The value of pi is: 3.1416"
      ]
    },
    {
      "cell_type": "markdown",
      "id": "3cac3afc",
      "metadata": {
        "id": "3cac3afc"
      },
      "source": [
        "\n",
        "---\n",
        "\n",
        "##### Tool 2: python_execute_script\n",
        "\n",
        "**Description**: Executes a Python script file in a secure environment.\n",
        "\n",
        "**Usage Example**:"
      ]
    },
    {
      "cell_type": "code",
      "execution_count": null,
      "id": "d57e81d8",
      "metadata": {
        "id": "d57e81d8"
      },
      "outputs": [],
      "source": [
        "# Get the execute script tool\n",
        "execute_script_tool = toolkit.get_tool(\"python_execute_script\")\n",
        "\n",
        "# Execute a Python script file\n",
        "script_result = execute_script_tool(file_path=\"examples/hello_world.py\", language=\"python\")\n",
        "print(script_result)"
      ]
    },
    {
      "cell_type": "markdown",
      "id": "c3073838",
      "metadata": {
        "id": "c3073838"
      },
      "source": [
        "\n",
        "**Return Type**: `str`\n",
        "\n",
        "**Sample Return**:"
      ]
    },
    {
      "cell_type": "code",
      "execution_count": null,
      "id": "e89b2746",
      "metadata": {
        "id": "e89b2746"
      },
      "outputs": [],
      "source": [
        "Running hello_world.py...\n",
        "Hello from the script file!\n",
        "Script execution completed."
      ]
    },
    {
      "cell_type": "markdown",
      "id": "6d6a623f",
      "metadata": {
        "id": "6d6a623f"
      },
      "source": [
        "\n",
        "#### 2.1.3 Setup Hints\n",
        "\n",
        "- **Project Path**: The `project_path` parameter should point to the root directory of your project to ensure proper file access. Default is the current directory (\".\").\n",
        "\n",
        "- **Directory Names**: The `directory_names` list specifies which directories within your project can be imported from. This is important for security to prevent unauthorized access. Default is an empty list `[]`.\n",
        "\n",
        "- **Allowed Imports**: The `allowed_imports` set restricts which Python modules can be imported in executed code. Default is an empty list `[]`.\n",
        "  - **Important**: If `allowed_imports` is set to an empty list, no import restrictions are applied.\n",
        "  - When specified, add only the modules you consider safe:\n"
      ]
    },
    {
      "cell_type": "code",
      "execution_count": null,
      "id": "5bcc8af4",
      "metadata": {
        "id": "5bcc8af4"
      },
      "outputs": [],
      "source": [
        "# Example with restricted imports\n",
        "toolkit = PythonInterpreterToolkit(\n",
        "    project_path=os.getcwd(),\n",
        "    directory_names=[\"examples\", \"evoagentx\", \"tests\"],\n",
        "    allowed_imports={\n",
        "        \"os\", \"sys\", \"time\", \"datetime\", \"math\", \"random\",\n",
        "        \"json\", \"csv\", \"re\", \"collections\", \"itertools\"\n",
        "    }\n",
        ")\n",
        "\n",
        "# Example with no import restrictions\n",
        "toolkit = PythonInterpreterToolkit(\n",
        "    project_path=os.getcwd(),\n",
        "    directory_names=[\"examples\", \"evoagentx\"],\n",
        "    allowed_imports=set()  # Allows any module to be imported\n",
        ")"
      ]
    },
    {
      "cell_type": "markdown",
      "id": "b2f5a398",
      "metadata": {
        "id": "b2f5a398"
      },
      "source": [
        "\n",
        "---\n",
        "\n",
        "### 2.2 DockerInterpreterToolkit\n",
        "\n",
        "**The DockerInterpreterToolkit executes code in isolated Docker containers, providing maximum security and environment isolation. It allows safe execution of potentially risky code with custom environments, dependencies, and complete resource isolation. Docker must be installed and running on your machine to use this toolkit.**\n",
        "\n",
        "#### 2.2.1 Setup\n"
      ]
    },
    {
      "cell_type": "code",
      "execution_count": null,
      "id": "76f34f05",
      "metadata": {
        "id": "76f34f05"
      },
      "outputs": [],
      "source": [
        "from evoagentx.tools import DockerInterpreterToolkit\n",
        "\n",
        "# Initialize with a specific Docker image\n",
        "toolkit = DockerInterpreterToolkit(\n",
        "    image_tag=\"fundingsocietiesdocker/python3.9-slim\",\n",
        "    print_stdout=True,\n",
        "    print_stderr=True,\n",
        "    container_directory=\"/app\"\n",
        ")"
      ]
    },
    {
      "cell_type": "markdown",
      "id": "427cee83",
      "metadata": {
        "id": "427cee83"
      },
      "source": [
        "\n",
        "#### 2.2.2 Available Methods\n",
        "\n",
        "The `DockerInterpreterToolkit` provides the following tools:\n",
        "\n",
        "##### Tool 1: docker_execute\n",
        "\n",
        "**Description**: Executes code inside a Docker container.\n",
        "\n",
        "**Usage Example**:"
      ]
    },
    {
      "cell_type": "code",
      "execution_count": null,
      "id": "f3b62b3e",
      "metadata": {
        "id": "f3b62b3e"
      },
      "outputs": [],
      "source": [
        "# Get the execute tool\n",
        "execute_tool = toolkit.get_tool(\"docker_execute\")\n",
        "\n",
        "# Execute Python code in a Docker container\n",
        "result = execute_tool(code=\"\"\"\n",
        "import platform\n",
        "print(f\"Python version: {platform.python_version()}\")\n",
        "print(f\"Platform: {platform.system()} {platform.release()}\")\n",
        "\"\"\", language=\"python\")\n",
        "\n",
        "print(result)"
      ]
    },
    {
      "cell_type": "markdown",
      "id": "040eefa1",
      "metadata": {
        "id": "040eefa1"
      },
      "source": [
        "\n",
        "**Return Type**: `str`\n",
        "\n",
        "**Sample Return**:"
      ]
    },
    {
      "cell_type": "code",
      "execution_count": null,
      "id": "78b92be2",
      "metadata": {
        "id": "78b92be2"
      },
      "outputs": [],
      "source": [
        "Python version: 3.9.16\n",
        "Platform: Linux 5.15.0-1031-azure"
      ]
    },
    {
      "cell_type": "markdown",
      "id": "ae9a1643",
      "metadata": {
        "id": "ae9a1643"
      },
      "source": [
        "\n",
        "---\n",
        "\n",
        "##### Tool 2: docker_execute_script\n",
        "\n",
        "**Description**: Executes a script file inside a Docker container.\n",
        "\n",
        "**Usage Example**:"
      ]
    },
    {
      "cell_type": "code",
      "execution_count": null,
      "id": "2672d608",
      "metadata": {
        "id": "2672d608"
      },
      "outputs": [],
      "source": [
        "# Get the execute script tool\n",
        "execute_script_tool = toolkit.get_tool(\"docker_execute_script\")\n",
        "\n",
        "# Execute a Python script file in Docker\n",
        "script_result = execute_script_tool(file_path=\"examples/docker_test.py\", language=\"python\")\n",
        "print(script_result)"
      ]
    },
    {
      "cell_type": "markdown",
      "id": "8aceef38",
      "metadata": {
        "id": "8aceef38"
      },
      "source": [
        "\n",
        "**Return Type**: `str`\n",
        "\n",
        "**Sample Return**:"
      ]
    },
    {
      "cell_type": "code",
      "execution_count": null,
      "id": "af660657",
      "metadata": {
        "id": "af660657"
      },
      "outputs": [],
      "source": [
        "Running container with script: /app/script_12345.py\n",
        "Hello from the Docker container!\n",
        "Container execution completed."
      ]
    },
    {
      "cell_type": "markdown",
      "id": "c6a7dba5",
      "metadata": {
        "id": "c6a7dba5"
      },
      "source": [
        "\n",
        "#### 2.2.3 Setup Hints\n",
        "\n",
        "- **Docker Requirements**: Ensure Docker is installed and running on your system before using this toolkit.\n",
        "\n",
        "- **Image Management**: You need to provide **either** an `image_tag` **or** a `dockerfile_path`, not both:\n",
        "  - **Option 1: Using an existing image**\n",
        "    ```python\n",
        "    toolkit = DockerInterpreterToolkit(\n",
        "        image_tag=\"python:3.9-slim\",  # Uses an existing Docker Hub image\n",
        "        container_directory=\"/app\"\n",
        "    )\n",
        "    ```\n",
        "  \n",
        "  - **Option 2: Building from a Dockerfile**\n",
        "    ```python\n",
        "    toolkit = DockerInterpreterToolkit(\n",
        "        dockerfile_path=\"path/to/Dockerfile\",  # Builds a custom image\n",
        "        image_tag=\"my-custom-image-name\",      # Name for the built image\n",
        "        container_directory=\"/app\"\n",
        "    )\n",
        "    ```\n",
        "\n",
        "- **File Access**:\n",
        "  - To make local files available in the container, use the `host_directory` parameter:\n",
        "  ```python\n",
        "  toolkit = DockerInterpreterToolkit(\n",
        "      image_tag=\"python:3.9-slim\",\n",
        "      host_directory=\"/path/to/local/files\",\n",
        "      container_directory=\"/app/data\"\n",
        "  )\n",
        "  ```\n",
        "  - This mounts the local directory to the specified container directory, making all files accessible.\n",
        "\n",
        "- **Container Lifecycle**:\n",
        "  - The Docker container is created when you initialize the toolkit and removed when the toolkit is destroyed.\n",
        "  - For long-running sessions, you can set `print_stdout` and `print_stderr` to see real-time output.\n",
        "\n",
        "- **Troubleshooting**:\n",
        "  - If you encounter permission issues, ensure your user has Docker privileges.\n",
        "  - For network-related errors, check if your Docker daemon has proper network access.\n",
        "\n",
        "---\n",
        "\n",
        "## 3. Search Tools\n",
        "\n",
        "EvoAgentX provides several search toolkits to retrieve information from various sources:\n",
        "\n",
        "1. **WikipediaSearchToolkit**: Search Wikipedia for information\n",
        "2. **GoogleSearchToolkit**: Search Google using the official API\n",
        "3. **GoogleFreeSearchToolkit**: Search Google without requiring an API key\n",
        "\n",
        "### 3.1 WikipediaSearchToolkit\n",
        "\n",
        "**The WikipediaSearchToolkit retrieves information from Wikipedia articles, providing summaries, full content, and metadata. It offers a straightforward way to incorporate encyclopedic knowledge into your agents without complex API setups.**\n",
        "\n",
        "#### 3.1.1 Setup\n"
      ]
    },
    {
      "cell_type": "code",
      "execution_count": null,
      "id": "952ef53c",
      "metadata": {
        "id": "952ef53c"
      },
      "outputs": [],
      "source": [
        "from evoagentx.tools import WikipediaSearchToolkit\n",
        "\n",
        "# Initialize with custom parameters\n",
        "toolkit = WikipediaSearchToolkit(max_summary_sentences=3)"
      ]
    },
    {
      "cell_type": "markdown",
      "id": "5a3cc237",
      "metadata": {
        "id": "5a3cc237"
      },
      "source": [
        "\n",
        "#### 3.1.2 Available Methods\n",
        "\n",
        "The `WikipediaSearchToolkit` provides the following callable tool:\n",
        "\n",
        "##### Tool: wikipedia_search\n",
        "\n",
        "**Description**: Searches Wikipedia for articles matching the query.\n",
        "\n",
        "**Usage Example**:"
      ]
    },
    {
      "cell_type": "code",
      "execution_count": null,
      "id": "3c362d38",
      "metadata": {
        "id": "3c362d38"
      },
      "outputs": [],
      "source": [
        "# Get the search tool\n",
        "search_tool = toolkit.get_tool(\"wikipedia_search\")\n",
        "\n",
        "# Search Wikipedia for information\n",
        "results = search_tool(\n",
        "    query=\"artificial intelligence agent architecture\"\n",
        ")\n",
        "\n",
        "# Process the results\n",
        "for i, result in enumerate(results.get(\"results\", [])):\n",
        "    print(f\"Result {i+1}: {result['title']}\")\n",
        "    print(f\"Summary: {result['summary']}\")\n",
        "    print(f\"URL: {result['url']}\")"
      ]
    },
    {
      "cell_type": "markdown",
      "id": "c4a6eba3",
      "metadata": {
        "id": "c4a6eba3"
      },
      "source": [
        "\n",
        "**Return Type**: `dict`\n",
        "\n",
        "**Sample Return**:"
      ]
    },
    {
      "cell_type": "code",
      "execution_count": null,
      "id": "f9268aa7",
      "metadata": {
        "id": "f9268aa7"
      },
      "outputs": [],
      "source": [
        "{\n",
        "    \"results\": [\n",
        "        {\n",
        "            \"title\": \"Artificial intelligence\",\n",
        "            \"summary\": \"Artificial intelligence (AI) is the intelligence of machines or software, as opposed to the intelligence of humans or animals. AI applications include advanced web search engines, recommendation systems, voice assistants...\",\n",
        "            \"url\": \"https://en.wikipedia.org/wiki/Artificial_intelligence\"\n",
        "        },\n",
        "        {\n",
        "            \"title\": \"Intelligent agent\",\n",
        "            \"summary\": \"In artificial intelligence, an intelligent agent (IA) is anything which can perceive its environment, process those perceptions, and respond in pursuit of its own goals...\",\n",
        "            \"url\": \"https://en.wikipedia.org/wiki/Intelligent_agent\"\n",
        "        }\n",
        "    ]\n",
        "}"
      ]
    },
    {
      "cell_type": "markdown",
      "id": "a94cbf3e",
      "metadata": {
        "id": "a94cbf3e"
      },
      "source": [
        "\n",
        "---\n",
        "\n",
        "### 3.2 GoogleSearchToolkit\n",
        "\n",
        "**The GoogleSearchToolkit enables web searches through Google's official Custom Search API, providing high-quality search results with content extraction. It requires API credentials but offers more reliable and comprehensive search capabilities.**\n",
        "\n",
        "#### 3.2.1 Setup\n"
      ]
    },
    {
      "cell_type": "code",
      "execution_count": null,
      "id": "c3af416e",
      "metadata": {
        "id": "c3af416e"
      },
      "outputs": [],
      "source": [
        "from evoagentx.tools import GoogleSearchToolkit\n",
        "\n",
        "# Initialize with custom parameters\n",
        "toolkit = GoogleSearchToolkit(\n",
        "    num_search_pages=3,\n",
        "    max_content_words=200\n",
        ")"
      ]
    },
    {
      "cell_type": "markdown",
      "id": "b3d94f68",
      "metadata": {
        "id": "b3d94f68"
      },
      "source": [
        "\n",
        "#### 3.2.2 Available Methods\n",
        "\n",
        "The `GoogleSearchToolkit` provides the following callable tool:\n",
        "\n",
        "##### Tool: google_search\n",
        "\n",
        "**Description**: Searches Google for content matching the query.\n",
        "\n",
        "**Usage Example**:"
      ]
    },
    {
      "cell_type": "code",
      "execution_count": null,
      "id": "8043d812",
      "metadata": {
        "id": "8043d812"
      },
      "outputs": [],
      "source": [
        "# Get the search tool\n",
        "search_tool = toolkit.get_tool(\"google_search\")\n",
        "\n",
        "# Search Google for information\n",
        "results = search_tool(\n",
        "    query=\"evolutionary algorithms for neural networks\"\n",
        ")\n",
        "\n",
        "# Process the results\n",
        "for i, result in enumerate(results.get(\"results\", [])):\n",
        "    print(f\"Result {i+1}: {result['title']}\")\n",
        "    print(f\"URL: {result['url']}\")\n",
        "    print(f\"Content: {result['content'][:150]}...\")"
      ]
    },
    {
      "cell_type": "markdown",
      "id": "14a9f8d1",
      "metadata": {
        "id": "14a9f8d1"
      },
      "source": [
        "\n",
        "**Return Type**: `dict`\n",
        "\n",
        "**Sample Return**:"
      ]
    },
    {
      "cell_type": "code",
      "execution_count": null,
      "id": "bc569575",
      "metadata": {
        "id": "bc569575"
      },
      "outputs": [],
      "source": [
        "{\n",
        "    \"results\": [\n",
        "        {\n",
        "            \"title\": \"Evolutionary Algorithms for Neural Networks - A Systematic Review\",\n",
        "            \"url\": \"https://example.com/paper1\",\n",
        "            \"content\": \"This paper provides a comprehensive review of evolutionary algorithms applied to neural network optimization. Key approaches include genetic algorithms, particle swarm optimization, and differential evolution...\"\n",
        "        },\n",
        "        {\n",
        "            \"title\": \"Applying Genetic Algorithms to Neural Network Training\",\n",
        "            \"url\": \"https://example.com/article2\",\n",
        "            \"content\": \"Genetic algorithms offer a powerful approach to optimizing neural network architectures and weights. This article explores how evolutionary computation can overcome limitations of gradient-based methods...\"\n",
        "        }\n",
        "    ]\n",
        "}"
      ]
    },
    {
      "cell_type": "markdown",
      "id": "6aba9c33",
      "metadata": {
        "id": "6aba9c33"
      },
      "source": [
        "\n",
        "#### 3.2.3 Setup Hints\n",
        "\n",
        "- **API Requirements**: This toolkit requires Google Custom Search API credentials. Set them in your environment:\n",
        "  ```python\n",
        "  # In your .env file or environment variables\n",
        "  GOOGLE_API_KEY=your_google_api_key_here\n",
        "  GOOGLE_SEARCH_ENGINE_ID=your_search_engine_id_here\n",
        "  ```\n",
        "\n",
        "- **Obtaining Credentials**:\n",
        "  1. Create a project in [Google Cloud Console](https://console.cloud.google.com/)\n",
        "  2. Enable the Custom Search API\n",
        "  3. Create API credentials\n",
        "  4. Set up a Custom Search Engine at [https://cse.google.com/cse/](https://cse.google.com/cse/)\n",
        "\n",
        "---\n",
        "\n",
        "### 3.3 GoogleFreeSearchToolkit\n",
        "\n",
        "**The GoogleFreeSearchToolkit provides web search capability without requiring any API keys or authentication. It offers a simpler alternative to the official Google API with basic search results suitable for most general queries.**\n",
        "\n",
        "#### 3.3.1 Setup\n"
      ]
    },
    {
      "cell_type": "code",
      "execution_count": null,
      "id": "b0e4d7fd",
      "metadata": {
        "id": "b0e4d7fd"
      },
      "outputs": [],
      "source": [
        "from evoagentx.tools import GoogleFreeSearchToolkit\n",
        "\n",
        "# Initialize the free Google search toolkit\n",
        "toolkit = GoogleFreeSearchToolkit(\n",
        "    num_search_pages=3,\n",
        "    max_content_words=500\n",
        ")"
      ]
    },
    {
      "cell_type": "markdown",
      "id": "edd9908a",
      "metadata": {
        "id": "edd9908a"
      },
      "source": [
        "\n",
        "#### 3.3.2 Available Methods\n",
        "\n",
        "The `GoogleFreeSearchToolkit` provides the following callable tool:\n",
        "\n",
        "##### Tool: google_free_search\n",
        "\n",
        "**Description**: Searches Google for content matching the query without requiring an API key.\n",
        "\n",
        "**Usage Example**:"
      ]
    },
    {
      "cell_type": "code",
      "execution_count": null,
      "id": "642eb212",
      "metadata": {
        "id": "642eb212"
      },
      "outputs": [],
      "source": [
        "# Get the search tool\n",
        "search_tool = toolkit.get_tool(\"google_free_search\")\n",
        "\n",
        "# Search Google without an API key\n",
        "results = search_tool(\n",
        "    query=\"reinforcement learning algorithms\"\n",
        ")\n",
        "\n",
        "# Process the results\n",
        "for i, result in enumerate(results.get(\"results\", [])):\n",
        "    print(f\"Result {i+1}: {result['title']}\")\n",
        "    print(f\"URL: {result['url']}\")"
      ]
    },
    {
      "cell_type": "markdown",
      "id": "83f2cb2a",
      "metadata": {
        "id": "83f2cb2a"
      },
      "source": [
        "\n",
        "**Return Type**: `dict`\n",
        "\n",
        "**Sample Return**:"
      ]
    },
    {
      "cell_type": "code",
      "execution_count": null,
      "id": "2b78be2a",
      "metadata": {
        "id": "2b78be2a"
      },
      "outputs": [],
      "source": [
        "{\n",
        "    \"results\": [\n",
        "        {\n",
        "            \"title\": \"Introduction to Reinforcement Learning Algorithms\",\n",
        "            \"url\": \"https://example.com/intro-rl\",\n",
        "            \"content\": \"A comprehensive overview of reinforcement learning algorithms including Q-learning, SARSA, and policy gradient methods.\"\n",
        "        },\n",
        "        {\n",
        "            \"title\": \"Top 10 Reinforcement Learning Algorithms for Beginners\",\n",
        "            \"url\": \"https://example.com/top-rl\",\n",
        "            \"content\": \"Learn about the most commonly used reinforcement learning algorithms with practical examples and implementation tips.\"\n",
        "        }\n",
        "    ]\n",
        "}"
      ]
    },
    {
      "cell_type": "markdown",
      "id": "7c72a64f",
      "metadata": {
        "id": "7c72a64f"
      },
      "source": [
        "\n",
        "---\n",
        "\n",
        "## 4. File Operations\n",
        "\n",
        "EvoAgentX provides comprehensive file handling capabilities through the FileToolkit, including reading and writing files with special support for different file formats like PDFs.\n",
        "\n",
        "### 4.1 FileToolkit\n",
        "\n",
        "**EvoAgentX provides comprehensive file handling capabilities through the FileToolkit. The toolkit supports standard file operations for text files and specialized handlers for formats like PDF using PyPDF2.**\n",
        "\n",
        "#### 4.1.1 FileToolkit Usage\n",
        "\n",
        "The `FileToolkit` provides a convenient way to access all file-related tools:\n"
      ]
    },
    {
      "cell_type": "code",
      "execution_count": null,
      "id": "8c256007",
      "metadata": {
        "id": "8c256007"
      },
      "outputs": [],
      "source": [
        "from evoagentx.tools import FileToolkit\n",
        "\n",
        "# Initialize the file toolkit\n",
        "toolkit = FileToolkit()\n",
        "\n",
        "# Get all available tools\n",
        "available_tools = toolkit.get_tools()\n",
        "print(f\"Available tools: {[tool.name for tool in available_tools]}\")\n",
        "# Output: ['read_file', 'write_file', 'append_file']\n",
        "\n",
        "# Get individual tools from the toolkit\n",
        "read_tool = toolkit.get_tool(\"read_file\")\n",
        "write_tool = toolkit.get_tool(\"write_file\")\n",
        "append_tool = toolkit.get_tool(\"append_file\")"
      ]
    },
    {
      "cell_type": "markdown",
      "id": "a6034ed5",
      "metadata": {
        "id": "a6034ed5"
      },
      "source": [
        "\n",
        "#### 4.1.2 Available Methods\n",
        "\n",
        "The `FileToolkit` provides exactly **3 callable tools**:\n",
        "\n",
        "##### Tool 1: read_file\n",
        "\n",
        "**Description**: Read content from a file with special handling for different file types like PDFs.\n",
        "\n",
        "**Usage Example**:"
      ]
    },
    {
      "cell_type": "code",
      "execution_count": null,
      "id": "e4efb9df",
      "metadata": {
        "id": "e4efb9df"
      },
      "outputs": [],
      "source": [
        "# Read a text file\n",
        "read_tool = toolkit.get_tool(\"read_file\")\n",
        "text_result = read_tool(file_path=\"examples/sample.txt\")\n",
        "print(text_result)\n",
        "\n",
        "# Read a PDF file (automatically detected by extension)\n",
        "pdf_result = read_tool(file_path=\"examples/document.pdf\")\n",
        "print(pdf_result)"
      ]
    },
    {
      "cell_type": "markdown",
      "id": "4575b9d0",
      "metadata": {
        "id": "4575b9d0"
      },
      "source": [
        "\n",
        "**Parameters**:\n",
        "- `file_path` (str): Path to the file to read\n",
        "\n",
        "**Return Type**: `Dict[str, Any]`\n",
        "\n",
        "**Sample Return**:"
      ]
    },
    {
      "cell_type": "code",
      "execution_count": null,
      "id": "f856e587",
      "metadata": {
        "id": "f856e587"
      },
      "outputs": [],
      "source": [
        "{\n",
        "    \"success\": True,\n",
        "    \"content\": \"File content here...\",\n",
        "    \"file_path\": \"examples/sample.txt\",\n",
        "    \"file_type\": \"text\"\n",
        "}"
      ]
    },
    {
      "cell_type": "markdown",
      "id": "fa618910",
      "metadata": {
        "id": "fa618910"
      },
      "source": [
        "\n",
        "---\n",
        "\n",
        "##### Tool 2: write_file\n",
        "\n",
        "**Description**: Write content to a file with special handling for different file types like PDFs.\n",
        "\n",
        "**Usage Example**:"
      ]
    },
    {
      "cell_type": "code",
      "execution_count": null,
      "id": "98e0c5cd",
      "metadata": {
        "id": "98e0c5cd"
      },
      "outputs": [],
      "source": [
        "# Write to a text file\n",
        "write_tool = toolkit.get_tool(\"write_file\")\n",
        "text_result = write_tool(\n",
        "    file_path=\"examples/output.txt\",\n",
        "    content=\"This is new content for the file.\"\n",
        ")\n",
        "\n",
        "# Write to a PDF file (creates a basic PDF)\n",
        "pdf_result = write_tool(\n",
        "    file_path=\"examples/new_document.pdf\",\n",
        "    content=\"This content will be in a PDF.\"\n",
        ")"
      ]
    },
    {
      "cell_type": "markdown",
      "id": "a41469b3",
      "metadata": {
        "id": "a41469b3"
      },
      "source": [
        "\n",
        "**Parameters**:\n",
        "- `file_path` (str): Path to the file to write\n",
        "- `content` (str): Content to write to the file\n",
        "\n",
        "**Return Type**: `Dict[str, Any]`\n",
        "\n",
        "**Sample Return**:"
      ]
    },
    {
      "cell_type": "code",
      "execution_count": null,
      "id": "e8f63e6d",
      "metadata": {
        "id": "e8f63e6d"
      },
      "outputs": [],
      "source": [
        "{\n",
        "    \"success\": True,\n",
        "    \"message\": \"Content written to examples/output.txt\",\n",
        "    \"file_path\": \"examples/output.txt\"\n",
        "}"
      ]
    },
    {
      "cell_type": "markdown",
      "id": "870badfb",
      "metadata": {
        "id": "870badfb"
      },
      "source": [
        "\n",
        "---\n",
        "\n",
        "##### Tool 3: append_file\n",
        "\n",
        "**Description**: Append content to a file with special handling for different file types like PDFs.\n",
        "\n",
        "**Usage Example**:"
      ]
    },
    {
      "cell_type": "code",
      "execution_count": null,
      "id": "5c54d006",
      "metadata": {
        "id": "5c54d006"
      },
      "outputs": [],
      "source": [
        "# Append to a text file\n",
        "append_tool = toolkit.get_tool(\"append_file\")\n",
        "result = append_tool(\n",
        "    file_path=\"examples/log.txt\",\n",
        "    content=\"\\nNew log entry: Operation completed.\"\n",
        ")\n",
        "print(result)"
      ]
    },
    {
      "cell_type": "markdown",
      "id": "9fa86f89",
      "metadata": {
        "id": "9fa86f89"
      },
      "source": [
        "\n",
        "**Parameters**:\n",
        "- `file_path` (str): Path to the file to append to\n",
        "- `content` (str): Content to append to the file\n",
        "\n",
        "**Return Type**: `Dict[str, Any]`\n",
        "\n",
        "**Sample Return**:"
      ]
    },
    {
      "cell_type": "code",
      "execution_count": null,
      "id": "a8c1fc76",
      "metadata": {
        "id": "a8c1fc76"
      },
      "outputs": [],
      "source": [
        "{\n",
        "    \"success\": True,\n",
        "    \"message\": \"Content appended to examples/log.txt\",\n",
        "    \"file_path\": \"examples/log.txt\"\n",
        "}"
      ]
    },
    {
      "cell_type": "markdown",
      "id": "24bfbbe1",
      "metadata": {
        "id": "24bfbbe1"
      },
      "source": [
        "\n",
        "---\n",
        "\n",
        "## 5. Browser Tools\n",
        "\n",
        "EvoAgentX provides comprehensive browser automation capabilities through two different toolkits:\n",
        "\n",
        "1. **BrowserToolkit** (Selenium-based): Provides fine-grained control over browser elements with detailed snapshots and element references\n",
        "2. **BrowserUseToolkit** (Browser-Use based): Offers natural language browser automation using AI-driven interactions\n",
        "\n",
        "## Setup\n",
        "\n",
        "### Option 1: BrowserToolkit (Selenium-based)\n",
        "\n",
        "Best for: Fine-grained control, detailed element inspection, complex automation workflows\n"
      ]
    },
    {
      "cell_type": "code",
      "execution_count": null,
      "id": "d7f3c499",
      "metadata": {
        "id": "d7f3c499"
      },
      "outputs": [],
      "source": [
        "from evoagentx.tools import BrowserToolkit\n",
        "\n",
        "# Initialize the browser toolkit\n",
        "toolkit = BrowserToolkit(\n",
        "    browser_type=\"chrome\",  # Options: \"chrome\", \"firefox\", \"safari\", \"edge\"\n",
        "    headless=False,         # Set to True for background operation\n",
        "    timeout=10              # Default timeout in seconds\n",
        ")\n",
        "\n",
        "# Get specific tools\n",
        "initialize_tool = toolkit.get_tool(\"initialize_browser\")\n",
        "navigate_tool = toolkit.get_tool(\"navigate_to_url\")\n",
        "input_tool = toolkit.get_tool(\"input_text\")\n",
        "click_tool = toolkit.get_tool(\"browser_click\")\n",
        "snapshot_tool = toolkit.get_tool(\"browser_snapshot\")\n",
        "console_tool = toolkit.get_tool(\"browser_console_messages\")\n",
        "close_tool = toolkit.get_tool(\"close_browser\")"
      ]
    },
    {
      "cell_type": "markdown",
      "id": "14690c74",
      "metadata": {
        "id": "14690c74"
      },
      "source": [
        "\n",
        "### Option 2: BrowserUseToolkit (Browser-Use based)\n",
        "\n",
        "Best for: Natural language interactions, AI-driven automation, simple task descriptions\n"
      ]
    },
    {
      "cell_type": "code",
      "execution_count": null,
      "id": "b3408967",
      "metadata": {
        "id": "b3408967"
      },
      "outputs": [],
      "source": [
        "from evoagentx.tools import BrowserUseToolkit\n",
        "\n",
        "# Initialize the browser-use toolkit\n",
        "toolkit = BrowserUseToolkit(\n",
        "    model=\"gpt-4o-mini\",          # LLM model for browser control\n",
        "    api_key=\"your-api-key\",       # OpenAI API key (or use environment variable)\n",
        "    browser_type=\"chromium\",      # Options: \"chromium\", \"firefox\", \"webkit\"\n",
        "    headless=False                # Set to True for background operation\n",
        ")\n",
        "\n",
        "# Get the browser automation tool\n",
        "browser_tool = toolkit.get_tool(\"browser_use\")"
      ]
    },
    {
      "cell_type": "markdown",
      "id": "469af5b4",
      "metadata": {
        "id": "469af5b4"
      },
      "source": [
        "\n",
        "## Available Methods\n",
        "\n",
        "### BrowserToolkit (Selenium-based) Methods\n",
        "\n",
        "### 1. initialize_browser\n",
        "\n",
        "Start or restart a browser session. Must be called before any other browser operations.\n",
        "\n",
        "**Parameters:**\n",
        "- None required\n",
        "\n",
        "**Sample Return:**"
      ]
    },
    {
      "cell_type": "code",
      "execution_count": null,
      "id": "8efd4d51",
      "metadata": {
        "id": "8efd4d51"
      },
      "outputs": [],
      "source": [
        "{\n",
        "    \"status\": \"success\",\n",
        "    \"message\": \"Browser chrome initialized successfully\"\n",
        "}"
      ]
    },
    {
      "cell_type": "markdown",
      "id": "558025b8",
      "metadata": {
        "id": "558025b8"
      },
      "source": [
        "\n",
        "**Usage:**"
      ]
    },
    {
      "cell_type": "code",
      "execution_count": null,
      "id": "ff818747",
      "metadata": {
        "id": "ff818747"
      },
      "outputs": [],
      "source": [
        "# Get and use the tool\n",
        "initialize_tool = toolkit.get_tool(\"initialize_browser\")\n",
        "result = initialize_tool()"
      ]
    },
    {
      "cell_type": "markdown",
      "id": "cf2b5c7a",
      "metadata": {
        "id": "cf2b5c7a"
      },
      "source": [
        "\n",
        "### 2. navigate_to_url\n",
        "\n",
        "Navigate to a URL and automatically capture a snapshot of all page elements for interaction.\n",
        "\n",
        "**Parameters:**\n",
        "- `url` (str, required): Complete URL with protocol (e.g., \"https://example.com\")\n",
        "- `timeout` (int, optional): Custom timeout in seconds\n",
        "\n",
        "**Sample Return:**"
      ]
    },
    {
      "cell_type": "code",
      "execution_count": null,
      "id": "1158150b",
      "metadata": {
        "id": "1158150b"
      },
      "outputs": [],
      "source": [
        "{\n",
        "    \"status\": \"success\",\n",
        "    \"title\": \"Example Domain\",\n",
        "    \"url\": \"https://example.com\",\n",
        "    \"accessibility_tree\": {...},  # Full page structure\n",
        "    \"page_content\": \"Example Domain\\n\\nThis domain is for use in illustrative examples...\",\n",
        "    \"interactive_elements\": [\n",
        "        {\n",
        "            \"id\": \"e0\",\n",
        "            \"description\": \"More information.../link\",\n",
        "            \"purpose\": \"link\",\n",
        "            \"label\": \"More information...\",\n",
        "            \"category\": \"navigation\",\n",
        "            \"isPrimary\": False,\n",
        "            \"visible\": True,\n",
        "            \"interactable\": True\n",
        "        }\n",
        "    ]\n",
        "}"
      ]
    },
    {
      "cell_type": "markdown",
      "id": "070caea6",
      "metadata": {
        "id": "070caea6"
      },
      "source": [
        "\n",
        "**Usage:**"
      ]
    },
    {
      "cell_type": "code",
      "execution_count": null,
      "id": "6dad549e",
      "metadata": {
        "id": "6dad549e"
      },
      "outputs": [],
      "source": [
        "# Get and use the tool\n",
        "navigate_tool = toolkit.get_tool(\"navigate_to_url\")\n",
        "result = navigate_tool(url=\"https://example.com\")"
      ]
    },
    {
      "cell_type": "markdown",
      "id": "09bc903e",
      "metadata": {
        "id": "09bc903e"
      },
      "source": [
        "\n",
        "### 3. input_text\n",
        "\n",
        "Type text into form fields, search boxes, or other input elements using element references from snapshots.\n",
        "\n",
        "**Parameters:**\n",
        "- `element` (str, required): Human-readable description (e.g., \"Search field\", \"Username input\")\n",
        "- `ref` (str, required): Element ID from snapshot (e.g., \"e0\", \"e1\", \"e2\")\n",
        "- `text` (str, required): Text to input\n",
        "- `submit` (bool, optional): Press Enter after typing (default: False)\n",
        "- `slowly` (bool, optional): Type character by character to trigger JS events (default: True)\n",
        "\n",
        "**Sample Return:**"
      ]
    },
    {
      "cell_type": "code",
      "execution_count": null,
      "id": "f0ad60d4",
      "metadata": {
        "id": "f0ad60d4"
      },
      "outputs": [],
      "source": [
        "{\n",
        "    \"status\": \"success\",\n",
        "    \"message\": \"Successfully input text into Search field and submitted\",\n",
        "    \"element\": \"Search field\",\n",
        "    \"text\": \"python tutorial\"\n",
        "}"
      ]
    },
    {
      "cell_type": "markdown",
      "id": "33d22671",
      "metadata": {
        "id": "33d22671"
      },
      "source": [
        "\n",
        "**Usage:**"
      ]
    },
    {
      "cell_type": "code",
      "execution_count": null,
      "id": "b329178b",
      "metadata": {
        "id": "b329178b"
      },
      "outputs": [],
      "source": [
        "# Get and use the tool\n",
        "input_tool = toolkit.get_tool(\"input_text\")\n",
        "result = input_tool(\n",
        "    element=\"Search field\",\n",
        "    ref=\"e1\",\n",
        "    text=\"python tutorial\",\n",
        "    submit=True\n",
        ")"
      ]
    },
    {
      "cell_type": "markdown",
      "id": "32ed07cc",
      "metadata": {
        "id": "32ed07cc"
      },
      "source": [
        "\n",
        "### 4. browser_click\n",
        "\n",
        "Click on buttons, links, or other clickable elements using element references from snapshots.\n",
        "\n",
        "**Parameters:**\n",
        "- `element` (str, required): Human-readable description (e.g., \"Login button\", \"Next page link\")\n",
        "- `ref` (str, required): Element ID from snapshot (e.g., \"e0\", \"e1\", \"e2\")\n",
        "\n",
        "**Sample Return:**"
      ]
    },
    {
      "cell_type": "code",
      "execution_count": null,
      "id": "140f67ea",
      "metadata": {
        "id": "140f67ea"
      },
      "outputs": [],
      "source": [
        "{\n",
        "    \"status\": \"success\",\n",
        "    \"message\": \"Successfully clicked Login button\",\n",
        "    \"element\": \"Login button\",\n",
        "    \"new_url\": \"https://example.com/dashboard\"  # If navigation occurred\n",
        "}"
      ]
    },
    {
      "cell_type": "markdown",
      "id": "be6d02e6",
      "metadata": {
        "id": "be6d02e6"
      },
      "source": [
        "\n",
        "**Usage:**"
      ]
    },
    {
      "cell_type": "code",
      "execution_count": null,
      "id": "72c9b151",
      "metadata": {
        "id": "72c9b151"
      },
      "outputs": [],
      "source": [
        "# Get and use the tool\n",
        "click_tool = toolkit.get_tool(\"browser_click\")\n",
        "result = click_tool(\n",
        "    element=\"Login button\",\n",
        "    ref=\"e3\"\n",
        ")"
      ]
    },
    {
      "cell_type": "markdown",
      "id": "30aa89bc",
      "metadata": {
        "id": "30aa89bc"
      },
      "source": [
        "\n",
        "### 5. browser_snapshot\n",
        "\n",
        "Capture a fresh snapshot of the current page state, including all interactive elements. Use this after page changes not caused by navigation or clicking.\n",
        "\n",
        "**Parameters:**\n",
        "- None required\n",
        "\n",
        "**Sample Return:**"
      ]
    },
    {
      "cell_type": "code",
      "execution_count": null,
      "id": "3e52709f",
      "metadata": {
        "id": "3e52709f"
      },
      "outputs": [],
      "source": [
        "{\n",
        "    \"status\": \"success\",\n",
        "    \"title\": \"Search Results - Example\",\n",
        "    \"url\": \"https://example.com/search?q=python\",\n",
        "    \"accessibility_tree\": {...},  # Complete page structure\n",
        "    \"page_content\": \"Search Results\\n\\nResult 1: Python Tutorial...\",\n",
        "    \"interactive_elements\": [\n",
        "        {\n",
        "            \"id\": \"e0\",\n",
        "            \"description\": \"search/search box\",\n",
        "            \"purpose\": \"search box\",\n",
        "            \"label\": \"Search\",\n",
        "            \"category\": \"search\",\n",
        "            \"isPrimary\": True,\n",
        "            \"visible\": True,\n",
        "            \"editable\": True\n",
        "        },\n",
        "        {\n",
        "            \"id\": \"e1\",\n",
        "            \"description\": \"Search/submit button\",\n",
        "            \"purpose\": \"submit button\",\n",
        "            \"label\": \"Search\",\n",
        "            \"category\": \"action\",\n",
        "            \"isPrimary\": True,\n",
        "            \"visible\": True,\n",
        "            \"interactable\": True\n",
        "        }\n",
        "    ]\n",
        "}"
      ]
    },
    {
      "cell_type": "markdown",
      "id": "07e0b7f9",
      "metadata": {
        "id": "07e0b7f9"
      },
      "source": [
        "\n",
        "**Usage:**"
      ]
    },
    {
      "cell_type": "code",
      "execution_count": null,
      "id": "27ee0e2a",
      "metadata": {
        "id": "27ee0e2a"
      },
      "outputs": [],
      "source": [
        "# Get and use the tool\n",
        "snapshot_tool = toolkit.get_tool(\"browser_snapshot\")\n",
        "result = snapshot_tool()"
      ]
    },
    {
      "cell_type": "markdown",
      "id": "ff36fde1",
      "metadata": {
        "id": "ff36fde1"
      },
      "source": [
        "\n",
        "### 6. browser_console_messages\n",
        "\n",
        "Retrieve JavaScript console messages (logs, warnings, errors) for debugging web applications.\n",
        "\n",
        "**Parameters:**\n",
        "- None required\n",
        "\n",
        "**Sample Return:**"
      ]
    },
    {
      "cell_type": "code",
      "execution_count": null,
      "id": "25ff1229",
      "metadata": {
        "id": "25ff1229"
      },
      "outputs": [],
      "source": [
        "{\n",
        "    \"status\": \"success\",\n",
        "    \"console_messages\": [\n",
        "        {\n",
        "            \"level\": \"INFO\",\n",
        "            \"message\": \"Page loaded successfully\",\n",
        "            \"timestamp\": \"2024-01-15T10:30:45.123Z\"\n",
        "        },\n",
        "        {\n",
        "            \"level\": \"WARNING\",\n",
        "            \"message\": \"Deprecated API usage detected\",\n",
        "            \"timestamp\": \"2024-01-15T10:30:46.456Z\"\n",
        "        },\n",
        "        {\n",
        "            \"level\": \"ERROR\",\n",
        "            \"message\": \"Failed to load resource: net::ERR_BLOCKED_BY_CLIENT\",\n",
        "            \"timestamp\": \"2024-01-15T10:30:47.789Z\"\n",
        "        }\n",
        "    ]\n",
        "}"
      ]
    },
    {
      "cell_type": "markdown",
      "id": "b70dee52",
      "metadata": {
        "id": "b70dee52"
      },
      "source": [
        "\n",
        "**Usage:**"
      ]
    },
    {
      "cell_type": "code",
      "execution_count": null,
      "id": "a7f3a9b7",
      "metadata": {
        "id": "a7f3a9b7"
      },
      "outputs": [],
      "source": [
        "# Get and use the tool\n",
        "console_tool = toolkit.get_tool(\"browser_console_messages\")\n",
        "result = console_tool()"
      ]
    },
    {
      "cell_type": "markdown",
      "id": "a91cc012",
      "metadata": {
        "id": "a91cc012"
      },
      "source": [
        "\n",
        "### 7. close_browser\n",
        "\n",
        "Close the browser session and free system resources. Always call this when finished.\n",
        "\n",
        "**Parameters:**\n",
        "- None required\n",
        "\n",
        "**Sample Return:**"
      ]
    },
    {
      "cell_type": "code",
      "execution_count": null,
      "id": "b7c57a67",
      "metadata": {
        "id": "b7c57a67"
      },
      "outputs": [],
      "source": [
        "{\n",
        "    \"status\": \"success\",\n",
        "    \"message\": \"Browser session closed successfully\"\n",
        "}"
      ]
    },
    {
      "cell_type": "markdown",
      "id": "e8b197da",
      "metadata": {
        "id": "e8b197da"
      },
      "source": [
        "\n",
        "**Usage:**"
      ]
    },
    {
      "cell_type": "code",
      "execution_count": null,
      "id": "d83f594f",
      "metadata": {
        "id": "d83f594f"
      },
      "outputs": [],
      "source": [
        "# Get and use the tool\n",
        "close_tool = toolkit.get_tool(\"close_browser\")\n",
        "result = close_tool()"
      ]
    },
    {
      "cell_type": "markdown",
      "id": "e3fe066d",
      "metadata": {
        "id": "e3fe066d"
      },
      "source": [
        "\n",
        "---\n",
        "\n",
        "### BrowserUseToolkit (Browser-Use based) Methods\n",
        "\n",
        "### browser_use\n",
        "\n",
        "Execute browser automation tasks using natural language descriptions. This single tool handles all browser interactions through AI-driven automation.\n",
        "\n",
        "**Parameters:**\n",
        "- `task` (str, required): Natural language description of the task to perform\n",
        "\n",
        "**Sample Return:**"
      ]
    },
    {
      "cell_type": "code",
      "execution_count": null,
      "id": "447358db",
      "metadata": {
        "id": "447358db"
      },
      "outputs": [],
      "source": [
        "{\n",
        "    \"success\": True,\n",
        "    \"result\": \"Successfully navigated to Google and searched for 'OpenAI GPT-4'. Found 10 search results on the page.\"\n",
        "}"
      ]
    },
    {
      "cell_type": "markdown",
      "id": "1b56e427",
      "metadata": {
        "id": "1b56e427"
      },
      "source": [
        "\n",
        "**Usage:**"
      ]
    },
    {
      "cell_type": "code",
      "execution_count": null,
      "id": "62f72c1d",
      "metadata": {
        "id": "62f72c1d"
      },
      "outputs": [],
      "source": [
        "# Get and use the tool\n",
        "browser_tool = toolkit.get_tool(\"browser_use\")\n",
        "\n",
        "# Navigate and search\n",
        "result = browser_tool(task=\"Go to Google and search for 'OpenAI GPT-4'\")\n",
        "print(f\"Task result: {result}\")\n",
        "\n",
        "# Fill out a form\n",
        "result = browser_tool(task=\"Fill out the contact form with name 'John Doe', email 'john@example.com', and message 'Hello world'\")\n",
        "print(f\"Form result: {result}\")\n",
        "\n",
        "# Click on specific elements\n",
        "result = browser_tool(task=\"Click the 'Sign Up' button and then fill out the registration form\")\n",
        "print(f\"Registration result: {result}\")"
      ]
    },
    {
      "cell_type": "markdown",
      "id": "32fcd409",
      "metadata": {
        "id": "32fcd409"
      },
      "source": [
        "\n",
        "**Natural Language Task Examples:**\n",
        "- \"Go to https://example.com and click the login button\"\n",
        "- \"Search for 'machine learning' on the current page\"\n",
        "- \"Fill out the form with my name and email address\"\n",
        "- \"Click the first result in the search results\"\n",
        "- \"Navigate to the pricing page and take a screenshot\"\n",
        "- \"Find the download button and click it\"\n",
        "- \"Scroll down to the bottom of the page and click 'Load More'\"\n",
        "\n",
        "## Element Reference System\n",
        "\n",
        "The browser tools use a unique element reference system:\n",
        "\n",
        "1. **Element IDs**: After taking a snapshot, interactive elements are assigned unique IDs like `e0`, `e1`, `e2`, etc.\n",
        "2. **Element References**: These IDs map internally to specific selectors (CSS, XPath, ID, etc.)\n",
        "3. **Interactive Elements**: Only elements that can be clicked, typed into, or otherwise interacted with are included\n",
        "4. **Element Properties**: Each element includes description, purpose, label, category, and visibility information\n",
        "\n",
        "## Best Practices\n",
        "\n",
        "### BrowserToolkit (Selenium-based) Best Practices\n",
        "\n",
        "#### Setup and Initialization\n",
        "- Always call `initialize_browser()` first\n",
        "- Use `headless=True` for server environments or background automation\n",
        "- Set appropriate `timeout` values for slow-loading pages\n",
        "\n",
        "#### Element Interaction\n",
        "- Always take a snapshot with `navigate_to_url()` or `browser_snapshot()` before interacting with elements\n",
        "- Use the exact element IDs (`e0`, `e1`, etc.) returned from snapshots\n",
        "- Provide descriptive `element` parameters to make interactions clear\n",
        "- Use `submit=True` in `input_text()` for form submissions\n",
        "\n",
        "#### Error Handling and Debugging\n",
        "- Check return status before proceeding with next operations\n",
        "- Use `browser_console_messages()` to debug JavaScript errors\n",
        "- Take fresh snapshots after page state changes\n",
        "- Handle timeout errors gracefully\n",
        "\n",
        "#### Resource Management\n",
        "- Always call `close_browser()` when finished\n",
        "- Only keep one browser session active per toolkit instance\n",
        "- Consider using context managers for automatic cleanup\n",
        "\n",
        "### BrowserUseToolkit (Browser-Use based) Best Practices\n",
        "\n",
        "#### Setup and Initialization\n",
        "- Ensure you have a valid OpenAI API key set in your environment\n",
        "- Install the browser-use package: `pip install browser-use`\n",
        "- Use `headless=True` for server environments or background automation\n",
        "- Choose the appropriate LLM model for your use case (gpt-4o-mini is cost-effective)\n",
        "\n",
        "#### Task Description\n",
        "- Write clear, specific task descriptions in natural language\n",
        "- Include complete context (e.g., \"Go to https://example.com and...\")\n",
        "- Break complex tasks into smaller, sequential steps\n",
        "- Be specific about what you want to achieve\n",
        "\n",
        "#### Error Handling\n",
        "- Check the `success` field in the response before proceeding\n",
        "- Handle cases where the AI may not complete the task successfully\n",
        "- Provide fallback logic for critical automation flows\n",
        "\n",
        "#### Resource Management\n",
        "- The browser session is managed automatically by the Browser-Use library\n",
        "- No manual cleanup is required\n",
        "- Use appropriate model settings to manage API costs\n",
        "\n",
        "## Complete Examples\n",
        "\n",
        "### BrowserToolkit (Selenium-based) Example\n"
      ]
    },
    {
      "cell_type": "code",
      "execution_count": null,
      "id": "6876f32d",
      "metadata": {
        "id": "6876f32d"
      },
      "outputs": [],
      "source": [
        "from evoagentx.tools import BrowserToolkit\n",
        "\n",
        "# Initialize browser toolkit\n",
        "toolkit = BrowserToolkit(browser_type=\"chrome\", headless=False)\n",
        "\n",
        "try:\n",
        "    # Start browser\n",
        "    initialize_tool = toolkit.get_tool(\"initialize_browser\")\n",
        "    result = initialize_tool()\n",
        "    print(f\"Browser init: {result['status']}\")\n",
        "\n",
        "    # Navigate to page and get snapshot\n",
        "    navigate_tool = toolkit.get_tool(\"navigate_to_url\")\n",
        "    result = navigate_tool(url=\"https://example.com\")\n",
        "    print(f\"Navigation: {result['status']}\")\n",
        "    print(f\"Found {len(result['interactive_elements'])} interactive elements\")\n",
        "\n",
        "    # Find and interact with elements\n",
        "    input_tool = toolkit.get_tool(\"input_text\")\n",
        "    for element in result['interactive_elements']:\n",
        "        if 'search' in element['purpose'].lower():\n",
        "            # Input text into search field\n",
        "            search_result = input_tool(\n",
        "                element=\"Search field\",\n",
        "                ref=element['id'],\n",
        "                text=\"python tutorial\",\n",
        "                submit=True\n",
        "            )\n",
        "            print(f\"Search: {search_result['status']}\")\n",
        "            break\n",
        "\n",
        "    # Take a fresh snapshot after search\n",
        "    snapshot_tool = toolkit.get_tool(\"browser_snapshot\")\n",
        "    snapshot = snapshot_tool()\n",
        "    print(f\"New snapshot: {len(snapshot['interactive_elements'])} elements\")\n",
        "\n",
        "    # Check console for any errors\n",
        "    console_tool = toolkit.get_tool(\"browser_console_messages\")\n",
        "    console = console_tool()\n",
        "    if console['console_messages']:\n",
        "        print(f\"Console messages: {len(console['console_messages'])}\")\n",
        "\n",
        "finally:\n",
        "    # Always close browser\n",
        "    close_tool = toolkit.get_tool(\"close_browser\")\n",
        "    close_tool()\n",
        "    print(\"Browser closed\")"
      ]
    },
    {
      "cell_type": "markdown",
      "id": "7b85c3db",
      "metadata": {
        "id": "7b85c3db"
      },
      "source": [
        "\n",
        "### BrowserUseToolkit (Browser-Use based) Example\n"
      ]
    },
    {
      "cell_type": "code",
      "execution_count": null,
      "id": "39f962ca",
      "metadata": {
        "id": "39f962ca"
      },
      "outputs": [],
      "source": [
        "from evoagentx.tools import BrowserUseToolkit\n",
        "import os\n",
        "\n",
        "# Initialize browser-use toolkit\n",
        "toolkit = BrowserUseToolkit(\n",
        "    model=\"gpt-4o-mini\",\n",
        "    api_key=os.getenv(\"OPENAI_API_KEY\"),  # Set your OpenAI API key\n",
        "    browser_type=\"chromium\",\n",
        "    headless=False\n",
        ")\n",
        "\n",
        "# Get the browser automation tool\n",
        "browser_tool = toolkit.get_tool(\"browser_use\")\n",
        "\n",
        "# Example 1: Simple navigation and search\n",
        "print(\"=== Example 1: Search task ===\")\n",
        "result = browser_tool(task=\"Go to https://google.com and search for 'Python programming tutorial'\")\n",
        "print(f\"Search result: {result}\")\n",
        "\n",
        "# Example 2: Form filling\n",
        "print(\"\\n=== Example 2: Form filling ===\")\n",
        "result = browser_tool(task=\"Go to https://httpbin.org/forms/post and fill out the form with name 'John Doe' and email 'john@example.com', then submit it\")\n",
        "print(f\"Form result: {result}\")\n",
        "\n",
        "# Example 3: Complex navigation\n",
        "print(\"\\n=== Example 3: Complex navigation ===\")\n",
        "result = browser_tool(task=\"Go to https://news.ycombinator.com, find the first article, and click on it\")\n",
        "print(f\"Navigation result: {result}\")\n",
        "\n",
        "# Example 4: Information extraction\n",
        "print(\"\\n=== Example 4: Information extraction ===\")\n",
        "result = browser_tool(task=\"Go to https://example.com and tell me what the main heading says\")\n",
        "print(f\"Extraction result: {result}\")\n",
        "\n",
        "print(\"\\nAll browser automation tasks completed!\")"
      ]
    },
    {
      "cell_type": "markdown",
      "id": "845801ef",
      "metadata": {
        "id": "845801ef"
      },
      "source": [
        "\n",
        "### Choosing Between the Toolkits\n",
        "\n",
        "**Use BrowserToolkit when:**\n",
        "- You need precise control over individual elements\n",
        "- You want to inspect detailed page structure\n",
        "- You're building complex automation workflows\n",
        "- You need to debug specific browser interactions\n",
        "- You want to minimize API costs (no LLM calls for basic actions)\n",
        "- You're working with simple, single-page / few-page interactions\n",
        "\n",
        "**Use BrowserUseToolkit when:**\n",
        "- You prefer natural language task descriptions\n",
        "- You want AI-driven decision making in browser interactions\n",
        "- You're building conversational agents that need to browse the web\n",
        "- You want to quickly prototype browser automation tasks\n",
        "- You're comfortable with LLM API costs for enhanced capabilities\n",
        "- You're working with complex multi-page workflows\n",
        "\n",
        "## Important Limitations and Requirements\n",
        "\n",
        "### BrowserToolkit Limitations\n",
        "\n",
        "**⚠️ Human Verification Issues:**\n",
        "- **CAPTCHA and Security Checks**: The Selenium-based BrowserToolkit may struggle with human verification systems, CAPTCHAs, and other anti-bot measures\n",
        "\n",
        "**⚠️ Complex Multi-Page Tasks:**\n",
        "- **Limited Context**: The toolkit works best with single-page / few-page interactions and may struggle with complex workflows that span multiple pages\n",
        "- **State Management**: Maintaining application state across page navigations can be challenging\n",
        "- **Dynamic Content**: Heavily JavaScript-dependent sites with dynamic content loading may cause issues\n",
        "\n",
        "### BrowserUseToolkit Limitations\n",
        "\n",
        "**⚠️ Model Performance Dependency:**\n",
        "- **Weaker Models**: The BrowserUseToolkit may perform poorly with less powerful models like `gpt-4o-mini`\n",
        "- **Cost Consideration**: More powerful models increase API costs\n",
        "\n",
        "### Browser Driver Requirements\n",
        "\n",
        "**🔧 Browser Driver Setup:**\n",
        "\n",
        "Both toolkits require browser drivers to be installed:\n",
        "\n",
        "**For BrowserToolkit (Selenium):**\n",
        "- **Recommended**: Google Chrome with ChromeDriver\n",
        "\n",
        "**For BrowserUseToolkit (Browser-Use):**\n",
        "- **Required**: Playwright browser installation\n",
        "- **Installation**: visit https://github.com/browser-use/browser-use\n",
        "- **Recommended**: Use Chromium for best compatibility\n",
        "\n",
        "### Performance Recommendations\n",
        "\n",
        "**For BrowserToolkit:**\n",
        "- Use for simple, predictable automation tasks\n",
        "- Implement proper error handling for network issues\n",
        "- Consider using headless mode for server deployments\n",
        "- Test thoroughly with target websites before production use\n",
        "\n",
        "**For BrowserUseToolkit:**\n",
        "- Use powerful models (gpt-4o or better) for reliable performance\n",
        "- Break complex tasks into smaller, sequential steps\n",
        "- Implement fallback mechanisms for critical workflows\n",
        "- Monitor API usage and costs carefully\n",
        "- Test with representative tasks to validate model performance\n",
        "\n",
        "---\n",
        "\n",
        "## 6. MCP Tools\n",
        "\n",
        "**The Model Context Protocol (MCP) Toolkit provides a standardized way to connect to external services through the MCP protocol. It enables agents to access specialized tools like job search services, data processing utilities, and other MCP-compatible APIs without requiring direct integration of each service.**\n",
        "\n",
        "### 6.1 MCPToolkit\n",
        "\n",
        "#### 6.1.1 Setup\n"
      ]
    },
    {
      "cell_type": "code",
      "execution_count": null,
      "id": "337ba930",
      "metadata": {
        "id": "337ba930"
      },
      "outputs": [],
      "source": [
        "from evoagentx.tools import MCPToolkit\n",
        "\n",
        "# Initialize with a configuration file\n",
        "toolkit = MCPToolkit(config_path=\"examples/sample_mcp.config\")\n",
        "\n",
        "# Or initialize with a configuration dictionary\n",
        "config = {\n",
        "    \"mcpServers\": {\n",
        "        \"hirebase\": {\n",
        "            \"command\": \"uvx\",\n",
        "            \"args\": [\"hirebase-mcp\"],\n",
        "            \"env\": {\"HIREBASE_API_KEY\": \"your_api_key_here\"}\n",
        "        }\n",
        "    }\n",
        "}\n",
        "toolkit = MCPToolkit(config=config)"
      ]
    },
    {
      "cell_type": "markdown",
      "id": "07211c0a",
      "metadata": {
        "id": "07211c0a"
      },
      "source": [
        "\n",
        "#### 6.1.2 Available Methods\n",
        "\n",
        "The `MCPToolkit` provides the following callable methods:\n",
        "\n",
        "##### Method 1: get_tools()\n",
        "\n",
        "**Description**: Returns a list of all available tools from connected MCP servers.\n",
        "\n",
        "**Usage Example**:"
      ]
    },
    {
      "cell_type": "code",
      "execution_count": null,
      "id": "e9f4b205",
      "metadata": {
        "id": "e9f4b205"
      },
      "outputs": [],
      "source": [
        "# Get all available MCP tools\n",
        "tools = toolkit.get_toolkits()\n",
        "\n",
        "# Display available tools\n",
        "for i, tool in enumerate(tools):\n",
        "    print(f\"Tool {i+1}: {tool.name}\")\n",
        "    print(f\"Description: {tool.description}\")"
      ]
    },
    {
      "cell_type": "markdown",
      "id": "e8c7f054",
      "metadata": {
        "id": "e8c7f054"
      },
      "source": [
        "\n",
        "**Return Type**: `List[Tool]`\n",
        "\n",
        "**Sample Return**:"
      ]
    },
    {
      "cell_type": "code",
      "execution_count": null,
      "id": "934299b7",
      "metadata": {
        "id": "934299b7"
      },
      "outputs": [],
      "source": [
        "[MCPTool(name=\"HirebaseSearch\", description=\"Search for job information by providing keywords\"),\n",
        " MCPTool(name=\"HirebaseAnalyze\", description=\"Analyze job market trends for given skills\")]"
      ]
    },
    {
      "cell_type": "markdown",
      "id": "893fca48",
      "metadata": {
        "id": "893fca48"
      },
      "source": [
        "\n",
        "---\n",
        "\n",
        "##### Method 2: disconnect()\n",
        "\n",
        "**Description**: Disconnects from all MCP servers and cleans up resources.\n",
        "\n",
        "**Usage Example**:"
      ]
    },
    {
      "cell_type": "code",
      "execution_count": null,
      "id": "6af078ce",
      "metadata": {
        "id": "6af078ce"
      },
      "outputs": [],
      "source": [
        "# When done with the MCP toolkit\n",
        "toolkit.disconnect()"
      ]
    },
    {
      "cell_type": "markdown",
      "id": "49ac2c9c",
      "metadata": {
        "id": "49ac2c9c"
      },
      "source": [
        "\n",
        "**Return Type**: `None`\n",
        "\n",
        "#### 6.1.3 Using MCP Tools\n",
        "\n",
        "Once you have obtained the tools from the MCPToolkit, you can use them like any other EvoAgentX tool:\n"
      ]
    },
    {
      "cell_type": "code",
      "execution_count": null,
      "id": "da6df512",
      "metadata": {
        "id": "da6df512"
      },
      "outputs": [],
      "source": [
        "# Get all tools from the toolkit\n",
        "tools = toolkit.get_toolkits()\n",
        "\n",
        "# Find a specific tool\n",
        "hirebase_tool = None\n",
        "for tool in tools:\n",
        "    if \"hire\" in tool.name.lower() or \"search\" in tool.name.lower():\n",
        "        hirebase_tool = tool\n",
        "        break\n",
        "\n",
        "if hirebase_tool:\n",
        "    # Use the tool to search for information\n",
        "    search_query = \"data scientist\"\n",
        "    result = hirebase_tool(query=search_query)\n",
        "\n",
        "    print(f\"Search results for '{search_query}':\")\n",
        "    print(result)"
      ]
    },
    {
      "cell_type": "markdown",
      "id": "64bb6fc9",
      "metadata": {
        "id": "64bb6fc9"
      },
      "source": [
        "\n",
        "#### 6.1.4 Setup Hints\n",
        "\n",
        "- **Configuration File**: The configuration file should follow the MCP protocol's server configuration format:\n",
        "  ```json\n",
        "  {\n",
        "      \"mcpServers\": {\n",
        "          \"serverName\": {\n",
        "              \"command\": \"executable_command\",\n",
        "              \"args\": [\"command_arguments\"],\n",
        "              \"env\": {\"ENV_VAR_NAME\": \"value\"}\n",
        "          }\n",
        "      }\n",
        "  }\n",
        "  ```\n",
        "\n",
        "- **Server Types**:\n",
        "  - **Command-based servers**: Use the `command` field to specify an executable\n",
        "  - **URL-based servers**: Use the `url` field to specify a server endpoint\n",
        "\n",
        "- **Connection Management**:\n",
        "  - Always call `disconnect()` when you're done using the MCPToolkit to free resources\n",
        "  - Use a try-finally block for automatic cleanup:\n",
        "    ```python\n",
        "    try:\n",
        "        toolkit = MCPToolkit(config_path=\"config.json\")\n",
        "        tools = toolkit.get_toolkits()\n",
        "        # Use tools here\n",
        "    finally:\n",
        "        toolkit.disconnect()\n",
        "    ```\n",
        "\n",
        "- **Error Handling**:\n",
        "  - The MCPToolkit will log warning messages if it can't connect to servers\n",
        "  - It's good practice to implement error handling around tool calls:\n",
        "    ```python\n",
        "    try:\n",
        "        result = tool(query=\"example query\")\n",
        "    except Exception as e:\n",
        "        print(f\"Error calling MCP tool: {str(e)}\")\n",
        "    ```\n",
        "\n",
        "- **Environment Variables**:\n",
        "  - API keys and other sensitive information can be provided via environment variables in the config\n",
        "  - You can also set them in your environment before running your application\n",
        "\n",
        "---\n",
        "\n",
        "## Summary\n",
        "\n",
        "In this tutorial, we've explored the tool ecosystem in EvoAgentX:\n",
        "\n",
        "1. **Tool Architecture**: Understood the base Tool class and Toolkit system providing standardized interfaces\n",
        "2. **Code Interpreters**: Learned how to execute Python code securely using both Python and Docker interpreter toolkits\n",
        "3. **Search Tools**: Discovered how to access web information using Wikipedia and Google search toolkits\n",
        "4. **File Operations**: Learned how to handle file operations with special support for different file formats\n",
        "5. **Browser Automation**: Learned how to control web browsers using both Selenium-based fine-grained control and AI-driven natural language automation\n",
        "6. **MCP Tools**: Learned how to connect to external services using the Model Context Protocol\n",
        "\n",
        "Tools in EvoAgentX extend your agents' capabilities by providing access to external resources and computation. By combining these toolkits with agents and workflows, you can build powerful AI systems that can retrieve information, perform calculations, and interact with the world.\n",
        "\n",
        "For more advanced usage and customization options, refer to the [API documentation](../api/tools.md) and explore the examples in the repository.\n",
        "\n"
      ]
    }
  ],
  "metadata": {
    "language_info": {
      "name": "python"
    },
    "colab": {
      "provenance": [],
      "include_colab_link": true
    }
  },
  "nbformat": 4,
  "nbformat_minor": 5
}