{
 "cells": [
  {
   "cell_type": "code",
   "execution_count": 6,
   "metadata": {},
   "outputs": [
    {
     "name": "stdout",
     "output_type": "stream",
     "text": [
      "Loading Omniglot data...\n",
      "['/home/tmiconi/exp/omniglot-master/python/images_background/Futurama', '/home/tmiconi/exp/omniglot-master/python/images_background/Japanese_(katakana)', '/home/tmiconi/exp/omniglot-master/python/images_background/Cyrillic', '/home/tmiconi/exp/omniglot-master/python/images_background/Tagalog']\n",
      "['/home/tmiconi/exp/omniglot-master/python/images_evaluation/Ge_ez', '/home/tmiconi/exp/omniglot-master/python/images_evaluation/Tibetan', '/home/tmiconi/exp/omniglot-master/python/images_evaluation/Tengwar', '/home/tmiconi/exp/omniglot-master/python/images_evaluation/Atemayar_Qelisayer']\n",
      "1623\n",
      "(105, 105)\n",
      "Data loaded!\n"
     ]
    }
   ],
   "source": [
    "# Loading Omniglot data\n",
    "import numpy as np\n",
    "import matplotlib.pyplot as plt\n",
    "import glob\n",
    "\n",
    "print(\"Loading Omniglot data...\")\n",
    "imagedata = []\n",
    "imagefilenames=[]\n",
    "for basedir in ('/home/tmiconi/exp/omniglot-master/python/images_background/', \n",
    "                '/home/tmiconi/exp/omniglot-master/python/images_evaluation/'):\n",
    "    alphabetdirs = glob.glob(basedir+'*')\n",
    "    print(alphabetdirs[:4])\n",
    "    for alphabetdir in alphabetdirs:\n",
    "        chardirs = glob.glob(alphabetdir+\"/*\")\n",
    "        for chardir in chardirs:\n",
    "            chardata = []\n",
    "            charfiles = glob.glob(chardir+'/*')\n",
    "            for fn in charfiles:\n",
    "                filedata = plt.imread(fn)\n",
    "                chardata.append(filedata)\n",
    "            imagedata.append(chardata)\n",
    "            imagefilenames.append(fn)\n",
    "# imagedata is now a list of lists of numpy arrays \n",
    "# imagedata[CharactertNumber][FileNumber] -> numpy(105,105)\n",
    "print(len(imagedata))\n",
    "print(imagedata[1][2].shape)\n",
    "print(\"Data loaded!\")\n",
    "\n"
   ]
  },
  {
   "cell_type": "code",
   "execution_count": 101,
   "metadata": {},
   "outputs": [
    {
     "name": "stderr",
     "output_type": "stream",
     "text": [
      "/usr/local/lib/python3.5/dist-packages/skimage/transform/_warps.py:84: UserWarning: The default mode, 'constant', will be changed to 'reflect' in skimage 0.15.\n",
      "  warn(\"The default mode, 'constant', will be changed to 'reflect' in \"\n"
     ]
    },
    {
     "name": "stdout",
     "output_type": "stream",
     "text": [
      "Displayed.\n"
     ]
    },
    {
     "data": {
      "text/plain": [
       "dtype('float64')"
      ]
     },
     "execution_count": 101,
     "metadata": {},
     "output_type": "execute_result"
    },
    {
     "data": {
      "image/png": "[encoded data removed]",
      "text/plain": [
       "<matplotlib.figure.Figure at 0x7f6224424b38>"
      ]
     },
     "metadata": {},
     "output_type": "display_data"
    },
    {
     "data": {
      "image/png": "[encoded data removed]",
      "text/plain": [
       "<matplotlib.figure.Figure at 0x7f62243551d0>"
      ]
     },
     "metadata": {},
     "output_type": "display_data"
    },
    {
     "data": {
      "image/png": "[encoded data removed]",
      "text/plain": [
       "<matplotlib.figure.Figure at 0x7f6224379ba8>"
      ]
     },
     "metadata": {},
     "output_type": "display_data"
    },
    {
     "data": {
      "image/png": "[encoded data removed]",
      "text/plain": [
       "<matplotlib.figure.Figure at 0x7f6224322550>"
      ]
     },
     "metadata": {},
     "output_type": "display_data"
    },
    {
     "data": {
      "image/png": "[encoded data removed]",
      "text/plain": [
       "<matplotlib.figure.Figure at 0x7f62242c9048>"
      ]
     },
     "metadata": {},
     "output_type": "display_data"
    },
    {
     "data": {
      "image/png": "[encoded data removed]",
      "text/plain": [
       "<matplotlib.figure.Figure at 0x7f62243c0b38>"
      ]
     },
     "metadata": {},
     "output_type": "display_data"
    },
    {
     "data": {
      "image/png": "[encoded data removed]",
      "text/plain": [
       "<matplotlib.figure.Figure at 0x7f6224765f28>"
      ]
     },
     "metadata": {},
     "output_type": "display_data"
    },
    {
     "data": {
      "image/png": "[encoded data removed]",
      "text/plain": [
       "<matplotlib.figure.Figure at 0x7f62243f8978>"
      ]
     },
     "metadata": {},
     "output_type": "display_data"
    },
    {
     "data": {
      "image/png": "[encoded data removed]",
      "text/plain": [
       "<matplotlib.figure.Figure at 0x7f6224424978>"
      ]
     },
     "metadata": {},
     "output_type": "display_data"
    },
    {
     "data": {
      "image/png": "[encoded data removed]",
      "text/plain": [
       "<matplotlib.figure.Figure at 0x7f62243cda58>"
      ]
     },
     "metadata": {},
     "output_type": "display_data"
    }
   ],
   "source": [
    "%matplotlib inline\n",
    "import skimage\n",
    "from skimage import transform\n",
    "for nn in range(10):\n",
    "    CharacterNum = np.random.randint(len(imagedata))\n",
    "    FileNum = 7\n",
    "    im = imagedata[CharacterNum][FileNum]\n",
    "    im = skimage.transform.resize(im, (28,28))\n",
    "    plt.figure(); plt.imshow(im)\n",
    "\n",
    "print(\"Displayed.\")\n",
    "im.dtype\n",
    "\n"
   ]
  },
  {
   "cell_type": "code",
   "execution_count": 99,
   "metadata": {},
   "outputs": [
    {
     "name": "stdout",
     "output_type": "stream",
     "text": [
      "torch.Size([1, 64, 15, 15]) torch.Size([1, 64, 7, 7]) torch.Size([1, 64, 3, 3]) torch.Size([1, 64, 1, 1])\n"
     ]
    }
   ],
   "source": [
    "# Let us compute the final size of various possible architectures and input image sizes!\n",
    "import torch\n",
    "from torch import autograd\n",
    "\n",
    "cv1 = torch.nn.Conv2d(1, 64, 3, stride=2)\n",
    "#mp1 = torch.nn.MaxPool2d(2, stride=2)\n",
    "cv2 = torch.nn.Conv2d(64, 64, 3, stride=2)\n",
    "#mp2 = torch.nn.MaxPool2d(2, stride=2)\n",
    "cv3 = torch.nn.Conv2d(64, 64, 3, stride=2)\n",
    "cv4 = torch.nn.Conv2d(64, 64, 3, stride=2)\n",
    "mp3 = torch.nn.MaxPool2d(2, stride=1)\n",
    "\n",
    "fakeim = autograd.Variable(torch.randn(1, 1, 31, 31))\n",
    "outcv1 = cv1(fakeim)\n",
    "outcv2 = cv2(outcv1)\n",
    "outcv3 = cv3(outcv2)\n",
    "outcv4 = cv4(outcv3)\n",
    "#outmp3 = mp3(outcv3)\n",
    "print(outcv1.size(), outcv2.size(), outcv3.size(), outcv4.size())\n"
   ]
  },
  {
   "cell_type": "code",
   "execution_count": 171,
   "metadata": {},
   "outputs": [
    {
     "name": "stdout",
     "output_type": "stream",
     "text": [
      "17 17 [ 152   75 1047] [0 3 0]\n"
     ]
    },
    {
     "name": "stderr",
     "output_type": "stream",
     "text": [
      "/usr/local/lib/python3.5/dist-packages/skimage/transform/_warps.py:84: UserWarning: The default mode, 'constant', will be changed to 'reflect' in skimage 0.15.\n",
      "  warn(\"The default mode, 'constant', will be changed to 'reflect' in \"\n"
     ]
    },
    {
     "data": {
      "text/plain": [
       "<matplotlib.image.AxesImage at 0x7f6223a08748>"
      ]
     },
     "execution_count": 171,
     "metadata": {},
     "output_type": "execute_result"
    },
    {
     "data": {
      "text/plain": [
       "<matplotlib.figure.Figure at 0x7f62240af0b8>"
      ]
     },
     "metadata": {},
     "output_type": "display_data"
    },
    {
     "data": {
      "image/png": "[encoded data removed]",
      "text/plain": [
       "<matplotlib.figure.Figure at 0x7f6223c23128>"
      ]
     },
     "metadata": {},
     "output_type": "display_data"
    },
    {
     "data": {
      "image/png": "[encoded data removed]",
      "text/plain": [
       "<matplotlib.figure.Figure at 0x7f6223b5e470>"
      ]
     },
     "metadata": {},
     "output_type": "display_data"
    },
    {
     "data": {
      "image/png": "[encoded data removed]",
      "text/plain": [
       "<matplotlib.figure.Figure at 0x7f6223ab1208>"
      ]
     },
     "metadata": {},
     "output_type": "display_data"
    },
    {
     "data": {
      "image/png": "[encoded data removed]",
      "text/plain": [
       "<matplotlib.figure.Figure at 0x7f6223a3ee10>"
      ]
     },
     "metadata": {},
     "output_type": "display_data"
    },
    {
     "data": {
      "image/png": "[encoded data removed]",
      "text/plain": [
       "<matplotlib.figure.Figure at 0x7f6223d706a0>"
      ]
     },
     "metadata": {},
     "output_type": "display_data"
    }
   ],
   "source": [
    "params={}\n",
    "params['nbclasses'] = 3\n",
    "params['imagesize'] = 31\n",
    "params['prestime'] = 3\n",
    "params['interpresdelay'] = 2\n",
    "params['prestimetest'] = 2\n",
    "params['nbshots'] = 1\n",
    "\n",
    "params['nbsteps'] = params['nbshots'] * ((params['prestime'] + params['interpresdelay']) * params['nbclasses']) + params['prestimetest'] \n",
    "inputT = np.zeros((params['nbsteps'], 1, params['imagesize'], params['imagesize']))    #inputTensor, initially in numpy format...\n",
    "labelT = np.zeros((params['nbsteps'], 1, params['nbclasses']))      #labelTensor, initially in numpy format...\n",
    "\n",
    "patterns=[]\n",
    "cats = np.random.permutation(np.arange(len(imagedata)))[:params['nbclasses']]  # Which categories to use for this episode?\n",
    "testcat = random.choice(cats)\n",
    "\n",
    "# Inserting the character images and labels in the input tensor at the proper places\n",
    "location = 0\n",
    "for nc in range(params['nbshots']):\n",
    "    np.random.shuffle(cats)\n",
    "    for ii, catnum in enumerate(cats):\n",
    "        p = random.choice(imagedata[catnum])\n",
    "        for nr in range(rots[catnum]):\n",
    "            p = np.rot90(p)\n",
    "        p = skimage.transform.resize(p, (31, 31))\n",
    "        for nn in range(params['prestime']):\n",
    "            #numi =nc * (params['nbpatterns'] * (params['prestime']+params['interpresdelay'])) + ii * (params['prestime']+params['interpresdelay']) + nn\n",
    "\n",
    "            inputT[location][0][:][:] = p[:][:]\n",
    "            #labelT[location][0][cats.index(\n",
    "            location += 1\n",
    "        location += params['interpresdelay']\n",
    "\n",
    "p = random.choice(imagedata[testcat])\n",
    "for nr in range(rots[testcat]):\n",
    "    p = np.rot90(p)\n",
    "p = skimage.transform.resize(p, (31, 31))\n",
    "for nn in range(params['prestimetest']):\n",
    "    inputT[location][0][:][:] = p[:][:]\n",
    "    location += 1\n",
    "\n",
    "print(location, params['nbsteps'], cats, rots[cats])\n",
    "\n",
    "plt.figure()\n",
    "for x in (1, 1+4, 1+9, 1+14):\n",
    "    plt.figure()\n",
    "    plt.imshow(inputT[x][0])\n",
    "plt.figure()\n",
    "plt.imshow(inputT[-1][0])\n"
   ]
  },
  {
   "cell_type": "code",
   "execution_count": 126,
   "metadata": {},
   "outputs": [
    {
     "data": {
      "text/plain": [
       "<matplotlib.image.AxesImage at 0x7f62245185c0>"
      ]
     },
     "execution_count": 126,
     "metadata": {},
     "output_type": "execute_result"
    },
    {
     "data": {
      "image/png": "[encoded data removed]",
      "text/plain": [
       "<matplotlib.figure.Figure at 0x7f6224614080>"
      ]
     },
     "metadata": {},
     "output_type": "display_data"
    }
   ],
   "source": [
    "z = np.zeros((1, 31, 31))\n",
    "z[0][:][:] = patterns[1][:][:]\n",
    "plt.imshow(z[0])"
   ]
  },
  {
   "cell_type": "code",
   "execution_count": 140,
   "metadata": {},
   "outputs": [
    {
     "ename": "AttributeError",
     "evalue": "module 'numpy' has no attribute 'find'",
     "output_type": "error",
     "traceback": [
      "\u001b[0;31m---------------------------------------------------------------------------\u001b[0m",
      "\u001b[0;31mAttributeError\u001b[0m                            Traceback (most recent call last)",
      "\u001b[0;32m<ipython-input-140-f78f50f5f959>\u001b[0m in \u001b[0;36m<module>\u001b[0;34m()\u001b[0m\n\u001b[1;32m      1\u001b[0m \u001b[0mcats\u001b[0m\u001b[0;34m\u001b[0m\u001b[0m\n\u001b[0;32m----> 2\u001b[0;31m \u001b[0mnp\u001b[0m\u001b[0;34m.\u001b[0m\u001b[0mfind\u001b[0m\u001b[0;34m(\u001b[0m\u001b[0mcats\u001b[0m\u001b[0;34m==\u001b[0m\u001b[0;36m414\u001b[0m\u001b[0;34m)\u001b[0m\u001b[0;34m\u001b[0m\u001b[0m\n\u001b[0m",
      "\u001b[0;31mAttributeError\u001b[0m: module 'numpy' has no attribute 'find'"
     ]
    }
   ],
   "source": [
    "cats\n",
    "np.find(cats==414)"
   ]
  },
  {
   "cell_type": "code",
   "execution_count": null,
   "metadata": {},
   "outputs": [],
   "source": []
  }
 ],
 "metadata": {
  "kernelspec": {
   "display_name": "Python 3",
   "language": "python",
   "name": "python3"
  },
  "language_info": {
   "codemirror_mode": {
    "name": "ipython",
    "version": 3
   },
   "file_extension": ".py",
   "mimetype": "text/x-python",
   "name": "python",
   "nbconvert_exporter": "python",
   "pygments_lexer": "ipython3",
   "version": "3.5.2"
  }
 },
 "nbformat": 4,
 "nbformat_minor": 2
}
